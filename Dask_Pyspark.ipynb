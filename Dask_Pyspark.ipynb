{
  "nbformat": 4,
  "nbformat_minor": 0,
  "metadata": {
    "colab": {
      "name": "Dask_Pyspark.ipynb",
      "provenance": [],
      "collapsed_sections": [],
      "toc_visible": true,
      "authorship_tag": "ABX9TyMc32L5TjdT2FcGDXHxBlH7",
      "include_colab_link": true
    },
    "kernelspec": {
      "name": "python3",
      "display_name": "Python 3"
    },
    "language_info": {
      "name": "python"
    }
  },
  "cells": [
    {
      "cell_type": "markdown",
      "metadata": {
        "id": "view-in-github",
        "colab_type": "text"
      },
      "source": [
        "<a href=\"https://colab.research.google.com/github/ansharma72/covid19_analysis/blob/master/Dask_Pyspark.ipynb\" target=\"_parent\"><img src=\"https://colab.research.google.com/assets/colab-badge.svg\" alt=\"Open In Colab\"/></a>"
      ]
    },
    {
      "cell_type": "code",
      "metadata": {
        "colab": {
          "base_uri": "https://localhost:8080/"
        },
        "id": "ytsM0YGR2ilq",
        "outputId": "f409bc9c-8006-4719-d4ec-64f310567ff3"
      },
      "source": [
        "!pip install pyspark"
      ],
      "execution_count": null,
      "outputs": [
        {
          "output_type": "stream",
          "text": [
            "Collecting pyspark\n",
            "\u001b[?25l  Downloading https://files.pythonhosted.org/packages/45/b0/9d6860891ab14a39d4bddf80ba26ce51c2f9dc4805e5c6978ac0472c120a/pyspark-3.1.1.tar.gz (212.3MB)\n",
            "\u001b[K     |████████████████████████████████| 212.3MB 81kB/s \n",
            "\u001b[?25hCollecting py4j==0.10.9\n",
            "\u001b[?25l  Downloading https://files.pythonhosted.org/packages/9e/b6/6a4fb90cd235dc8e265a6a2067f2a2c99f0d91787f06aca4bcf7c23f3f80/py4j-0.10.9-py2.py3-none-any.whl (198kB)\n",
            "\u001b[K     |████████████████████████████████| 204kB 70.2MB/s \n",
            "\u001b[?25hBuilding wheels for collected packages: pyspark\n",
            "  Building wheel for pyspark (setup.py) ... \u001b[?25l\u001b[?25hdone\n",
            "  Created wheel for pyspark: filename=pyspark-3.1.1-py2.py3-none-any.whl size=212767604 sha256=7e0ad49f32075fd483ec0685c9886fe7b0a2e95b6ce7bd601c276bebfb37b348\n",
            "  Stored in directory: /root/.cache/pip/wheels/0b/90/c0/01de724414ef122bd05f056541fb6a0ecf47c7ca655f8b3c0f\n",
            "Successfully built pyspark\n",
            "Installing collected packages: py4j, pyspark\n",
            "Successfully installed py4j-0.10.9 pyspark-3.1.1\n"
          ],
          "name": "stdout"
        }
      ]
    },
    {
      "cell_type": "code",
      "metadata": {
        "id": "slOjEuUI9KJP"
      },
      "source": [
        "import numpy as np # linear algebra\n",
        "import pandas as pd # data processing, CSV file I/O (e.g. pd.read_csv)"
      ],
      "execution_count": null,
      "outputs": []
    },
    {
      "cell_type": "code",
      "metadata": {
        "id": "n3GcLlgr89EX"
      },
      "source": [
        "from pyspark import SparkConf, SparkContext\n",
        "from pyspark.sql import SparkSession, SQLContext\n",
        "\n",
        "from pyspark.sql.types import *\n",
        "import pyspark.sql.functions as F\n",
        "from pyspark.sql.functions import udf, col\n",
        "\n",
        "from pyspark.ml.regression import LinearRegression\n",
        "from pyspark.mllib.evaluation import RegressionMetrics\n",
        "\n",
        "from pyspark.ml.tuning import ParamGridBuilder, CrossValidator, CrossValidatorModel\n",
        "from pyspark.ml.feature import VectorAssembler, StandardScaler\n",
        "from pyspark.ml.evaluation import RegressionEvaluator"
      ],
      "execution_count": null,
      "outputs": []
    },
    {
      "cell_type": "code",
      "metadata": {
        "id": "rI07LJ5389uI"
      },
      "source": [
        "import seaborn as sns\n",
        "import matplotlib.pyplot as plt\n",
        "\n",
        "# Visualization\n",
        "from IPython.core.interactiveshell import InteractiveShell\n",
        "InteractiveShell.ast_node_interactivity = \"all\"\n",
        "\n",
        "pd.set_option('display.max_columns', 200)\n",
        "pd.set_option('display.max_colwidth', 400)\n",
        "\n",
        "from matplotlib import rcParams\n",
        "sns.set(context='notebook', style='whitegrid', rc={'figure.figsize': (18,4)})\n",
        "rcParams['figure.figsize'] = 18,4\n",
        "\n",
        "%matplotlib inline\n",
        "%config InlineBackend.figure_format = 'retina'\n",
        "\n",
        "# setting random seed for notebook reproducability\n",
        "rnd_seed=23\n",
        "np.random.seed=rnd_seed\n",
        "np.random.set_state=rnd_seed"
      ],
      "execution_count": null,
      "outputs": []
    },
    {
      "cell_type": "code",
      "metadata": {
        "colab": {
          "base_uri": "https://localhost:8080/",
          "height": 216
        },
        "id": "FPVs0c2f9BN-",
        "outputId": "28f634c6-229b-4e8b-91d5-579ed76292b5"
      },
      "source": [
        "spark = SparkSession.builder.master(\"local[2]\").appName(\"data-wrangling\").getOrCreate()\n",
        "spark"
      ],
      "execution_count": null,
      "outputs": [
        {
          "output_type": "execute_result",
          "data": {
            "text/html": [
              "\n",
              "            <div>\n",
              "                <p><b>SparkSession - in-memory</b></p>\n",
              "                \n",
              "        <div>\n",
              "            <p><b>SparkContext</b></p>\n",
              "\n",
              "            <p><a href=\"http://054900d37966:4040\">Spark UI</a></p>\n",
              "\n",
              "            <dl>\n",
              "              <dt>Version</dt>\n",
              "                <dd><code>v3.1.1</code></dd>\n",
              "              <dt>Master</dt>\n",
              "                <dd><code>local[2]</code></dd>\n",
              "              <dt>AppName</dt>\n",
              "                <dd><code>Used-cars-data-wrangling</code></dd>\n",
              "            </dl>\n",
              "        </div>\n",
              "        \n",
              "            </div>\n",
              "        "
            ],
            "text/plain": [
              "<pyspark.sql.session.SparkSession at 0x7f9ece338bd0>"
            ]
          },
          "metadata": {
            "tags": []
          },
          "execution_count": 7
        }
      ]
    },
    {
      "cell_type": "code",
      "metadata": {
        "colab": {
          "base_uri": "https://localhost:8080/"
        },
        "id": "DG5b1eYx9QLs",
        "outputId": "4d6c2c28-d7bf-4f46-f8b2-9497f91b1a7d"
      },
      "source": [
        "!pip install miceforest\n",
        "!pip install sparkpickle"
      ],
      "execution_count": 26,
      "outputs": [
        {
          "output_type": "stream",
          "text": [
            "Requirement already satisfied: miceforest in /usr/local/lib/python3.7/dist-packages (2.0.4)\n",
            "Requirement already satisfied: seaborn>=0.11.0 in /usr/local/lib/python3.7/dist-packages (from miceforest) (0.11.1)\n",
            "Requirement already satisfied: sklearn in /usr/local/lib/python3.7/dist-packages (from miceforest) (0.0)\n",
            "Requirement already satisfied: matplotlib>=3.3.0 in /usr/local/lib/python3.7/dist-packages (from miceforest) (3.4.1)\n",
            "Requirement already satisfied: numpy in /usr/local/lib/python3.7/dist-packages (from miceforest) (1.19.5)\n",
            "Requirement already satisfied: pandas in /usr/local/lib/python3.7/dist-packages (from miceforest) (1.1.5)\n",
            "Requirement already satisfied: scipy>=1.0 in /usr/local/lib/python3.7/dist-packages (from seaborn>=0.11.0->miceforest) (1.4.1)\n",
            "Requirement already satisfied: scikit-learn in /usr/local/lib/python3.7/dist-packages (from sklearn->miceforest) (0.22.2.post1)\n",
            "Requirement already satisfied: cycler>=0.10 in /usr/local/lib/python3.7/dist-packages (from matplotlib>=3.3.0->miceforest) (0.10.0)\n",
            "Requirement already satisfied: kiwisolver>=1.0.1 in /usr/local/lib/python3.7/dist-packages (from matplotlib>=3.3.0->miceforest) (1.3.1)\n",
            "Requirement already satisfied: pillow>=6.2.0 in /usr/local/lib/python3.7/dist-packages (from matplotlib>=3.3.0->miceforest) (7.1.2)\n",
            "Requirement already satisfied: python-dateutil>=2.7 in /usr/local/lib/python3.7/dist-packages (from matplotlib>=3.3.0->miceforest) (2.8.1)\n",
            "Requirement already satisfied: pyparsing>=2.2.1 in /usr/local/lib/python3.7/dist-packages (from matplotlib>=3.3.0->miceforest) (2.4.7)\n",
            "Requirement already satisfied: pytz>=2017.2 in /usr/local/lib/python3.7/dist-packages (from pandas->miceforest) (2018.9)\n",
            "Requirement already satisfied: joblib>=0.11 in /usr/local/lib/python3.7/dist-packages (from scikit-learn->sklearn->miceforest) (1.0.1)\n",
            "Requirement already satisfied: six in /usr/local/lib/python3.7/dist-packages (from cycler>=0.10->matplotlib>=3.3.0->miceforest) (1.15.0)\n",
            "Collecting sparkpickle\n",
            "  Downloading https://files.pythonhosted.org/packages/2e/3d/f2af239ad6f9a1e0c851a105b663642fcbf11718aba1e014fc43d3382029/sparkpickle-1.0.1.tar.gz\n",
            "Building wheels for collected packages: sparkpickle\n",
            "  Building wheel for sparkpickle (setup.py) ... \u001b[?25l\u001b[?25hdone\n",
            "  Created wheel for sparkpickle: filename=sparkpickle-1.0.1-cp37-none-any.whl size=27391 sha256=27b24356922260528ad97c7511cffefae60fb7c7ca9756454f20e9aa989f3df0\n",
            "  Stored in directory: /root/.cache/pip/wheels/81/83/f7/189f6eda49941039142c83e56e711a956068009daaff49acb0\n",
            "Successfully built sparkpickle\n",
            "Installing collected packages: sparkpickle\n",
            "Successfully installed sparkpickle-1.0.1\n"
          ],
          "name": "stdout"
        }
      ]
    },
    {
      "cell_type": "code",
      "metadata": {
        "id": "UfKssRcl9_ul"
      },
      "source": [
        "import pandas as pd\n",
        "import numpy as np\n",
        "# import tensorflow as tf\n",
        "import sklearn\n",
        "from sklearn.preprocessing import StandardScaler\n",
        "from sklearn import preprocessing\n",
        "import io\n",
        "# %cd /content/drive/MyDrive/Ryan - multiinput GAN regression\n",
        "# import utils\n",
        "import config\n",
        "from config import catgoricalValues\n",
        "from config import NumericColumns\n",
        "from config import vector\n",
        "\n",
        "from dask.diagnostics import ProgressBar\n",
        "pbar = ProgressBar()\n",
        "pbar.register()"
      ],
      "execution_count": null,
      "outputs": []
    },
    {
      "cell_type": "code",
      "metadata": {
        "id": "fzyXFF8l-suV",
        "colab": {
          "base_uri": "https://localhost:8080/",
          "height": 198
        },
        "outputId": "c0e29a2f-64c9-419b-e04d-2489d1484513"
      },
      "source": [
        "FullMerge = pd.read_pickle(\"./FullMerge.pkl.bz2\")\n",
        "emissions = pd.read_pickle(\"./emissions.pkl.bz2\")\n",
        "FundMapping = pd.read_pickle(\"./FundMapping.pkl.bz2\")\n"
      ],
      "execution_count": 20,
      "outputs": [
        {
          "output_type": "error",
          "ename": "NameError",
          "evalue": "ignored",
          "traceback": [
            "\u001b[0;31m---------------------------------------------------------------------------\u001b[0m",
            "\u001b[0;31mNameError\u001b[0m                                 Traceback (most recent call last)",
            "\u001b[0;32m<ipython-input-20-13d6aaedd5b9>\u001b[0m in \u001b[0;36m<module>\u001b[0;34m()\u001b[0m\n\u001b[1;32m      3\u001b[0m \u001b[0mFundMapping\u001b[0m \u001b[0;34m=\u001b[0m \u001b[0mpd\u001b[0m\u001b[0;34m.\u001b[0m\u001b[0mread_pickle\u001b[0m\u001b[0;34m(\u001b[0m\u001b[0;34m\"./FundMapping.pkl.bz2\"\u001b[0m\u001b[0;34m)\u001b[0m\u001b[0;34m\u001b[0m\u001b[0;34m\u001b[0m\u001b[0m\n\u001b[1;32m      4\u001b[0m \u001b[0;34m\u001b[0m\u001b[0m\n\u001b[0;32m----> 5\u001b[0;31m \u001b[0msc\u001b[0m\u001b[0;34m.\u001b[0m\u001b[0mread_pickle\u001b[0m\u001b[0;34m(\u001b[0m\u001b[0;34m\"./FullMerge.pkl.bz2\"\u001b[0m\u001b[0;34m)\u001b[0m\u001b[0;34m\u001b[0m\u001b[0;34m\u001b[0m\u001b[0m\n\u001b[0m",
            "\u001b[0;31mNameError\u001b[0m: name 'sc' is not defined"
          ]
        }
      ]
    },
    {
      "cell_type": "code",
      "metadata": {
        "id": "bYAkLXq9ZrF_"
      },
      "source": [
        "FullMerge.to_parquet(\"FullMerge.parquet\")\n",
        "emissions.to_parquet(\"Emissions.parquet\")\n",
        "FundMapping.to_parquet(\"FundMapping.parquet\")\n",
        "\n"
      ],
      "execution_count": 38,
      "outputs": []
    },
    {
      "cell_type": "code",
      "metadata": {
        "id": "FSqm19R0aeNd"
      },
      "source": [
        "FullMergeDf = spark.read.parquet(\"FullMerge.parquet\")\n",
        "emissionsDf = spark.read.parquet(\"Emissions.parquet\")\n",
        "FundMappingDf = spark.read.parquet(\"FundMapping.parquet\")"
      ],
      "execution_count": 49,
      "outputs": []
    },
    {
      "cell_type": "code",
      "metadata": {
        "id": "DB_k-JQ6dxQK"
      },
      "source": [
        "\n",
        "# Parquet files can also be used to create a temporary view and then used in SQL statements.\n",
        "FullMergeDf.createOrReplaceTempView(\"FullMerge\")\n",
        "emissionsDf.createOrReplaceTempView(\"Emissions\")\n",
        "FundMappingDf.createOrReplaceTempView(\"FundMapping\")\n",
        "\n",
        "# Cache here the 3 data frames \n",
        "FullMergeDf.cache\n",
        "emissionsDf.cache\n",
        "FundMappingDf.cache"
      ],
      "execution_count": 50,
      "outputs": []
    },
    {
      "cell_type": "code",
      "metadata": {
        "colab": {
          "base_uri": "https://localhost:8080/"
        },
        "id": "op8BqTmQ06aQ",
        "outputId": "9a6aa2eb-3706-4803-f05a-6d693e767c50"
      },
      "source": [
        "SQL = \"\"\" \n",
        "          Select * from FullMerge f \"\"\"\n",
        "results_fullmerge = spark.sql(SQL)\n",
        "\n",
        "results_fullmerge.printSchema()\n",
        "results_fullmerge.count(). # 165,909\n",
        "results_fullmerge.show(10)"
      ],
      "execution_count": 65,
      "outputs": [
        {
          "output_type": "stream",
          "text": [
            "root\n",
            " |-- index: long (nullable = true)\n",
            " |-- date_x: string (nullable = true)\n",
            " |-- filing_date_x: string (nullable = true)\n",
            " |-- currency_symbol_x: string (nullable = true)\n",
            " |-- totalAssets: string (nullable = true)\n",
            " |-- intangibleAssets: string (nullable = true)\n",
            " |-- earningAssets: string (nullable = true)\n",
            " |-- otherCurrentAssets: string (nullable = true)\n",
            " |-- totalLiab: string (nullable = true)\n",
            " |-- totalStockholderEquity: string (nullable = true)\n",
            " |-- deferredLongTermLiab: string (nullable = true)\n",
            " |-- otherCurrentLiab: string (nullable = true)\n",
            " |-- commonStock: string (nullable = true)\n",
            " |-- retainedEarnings: string (nullable = true)\n",
            " |-- otherLiab: string (nullable = true)\n",
            " |-- goodWill: string (nullable = true)\n",
            " |-- otherAssets: string (nullable = true)\n",
            " |-- cash: string (nullable = true)\n",
            " |-- totalCurrentLiabilities: string (nullable = true)\n",
            " |-- shortTermDebt: string (nullable = true)\n",
            " |-- shortLongTermDebt: string (nullable = true)\n",
            " |-- shortLongTermDebtTotal: string (nullable = true)\n",
            " |-- otherStockholderEquity: string (nullable = true)\n",
            " |-- propertyPlantEquipment: string (nullable = true)\n",
            " |-- totalCurrentAssets: string (nullable = true)\n",
            " |-- longTermInvestments: string (nullable = true)\n",
            " |-- netTangibleAssets: string (nullable = true)\n",
            " |-- shortTermInvestments: string (nullable = true)\n",
            " |-- netReceivables: string (nullable = true)\n",
            " |-- longTermDebt: string (nullable = true)\n",
            " |-- inventory: string (nullable = true)\n",
            " |-- accountsPayable: string (nullable = true)\n",
            " |-- totalPermanentEquity: string (nullable = true)\n",
            " |-- noncontrollingInterestInConsolidatedEntity: string (nullable = true)\n",
            " |-- temporaryEquityRedeemableNoncontrollingInterests: string (nullable = true)\n",
            " |-- accumulatedOtherComprehensiveIncome: string (nullable = true)\n",
            " |-- additionalPaidInCapital: string (nullable = true)\n",
            " |-- commonStockTotalEquity: string (nullable = true)\n",
            " |-- preferredStockTotalEquity: string (nullable = true)\n",
            " |-- retainedEarningsTotalEquity: string (nullable = true)\n",
            " |-- treasuryStock: string (nullable = true)\n",
            " |-- accumulatedAmortization: string (nullable = true)\n",
            " |-- nonCurrrentAssetsOther: string (nullable = true)\n",
            " |-- deferredLongTermAssetCharges: string (nullable = true)\n",
            " |-- nonCurrentAssetsTotal: string (nullable = true)\n",
            " |-- capitalLeaseObligations: string (nullable = true)\n",
            " |-- longTermDebtTotal: string (nullable = true)\n",
            " |-- nonCurrentLiabilitiesOther: string (nullable = true)\n",
            " |-- nonCurrentLiabilitiesTotal: string (nullable = true)\n",
            " |-- negativeGoodwill: string (nullable = true)\n",
            " |-- warrants: string (nullable = true)\n",
            " |-- preferredStockRedeemable: string (nullable = true)\n",
            " |-- capitalSurpluse: string (nullable = true)\n",
            " |-- liabilitiesAndStockholdersEquity: string (nullable = true)\n",
            " |-- cashAndShortTermInvestments: string (nullable = true)\n",
            " |-- propertyPlantAndEquipmentGross: string (nullable = true)\n",
            " |-- accumulatedDepreciation: string (nullable = true)\n",
            " |-- commonStockSharesOutstanding: string (nullable = true)\n",
            " |-- ticker: string (nullable = true)\n",
            " |-- year: long (nullable = true)\n",
            " |-- date_y: string (nullable = true)\n",
            " |-- filing_date_y: string (nullable = true)\n",
            " |-- currency_symbol_y: string (nullable = true)\n",
            " |-- investments: string (nullable = true)\n",
            " |-- changeToLiabilities: string (nullable = true)\n",
            " |-- totalCashflowsFromInvestingActivities: string (nullable = true)\n",
            " |-- netBorrowings: string (nullable = true)\n",
            " |-- totalCashFromFinancingActivities: string (nullable = true)\n",
            " |-- changeToOperatingActivities: string (nullable = true)\n",
            " |-- netIncome_x: string (nullable = true)\n",
            " |-- changeInCash: string (nullable = true)\n",
            " |-- totalCashFromOperatingActivities: string (nullable = true)\n",
            " |-- depreciation: string (nullable = true)\n",
            " |-- otherCashflowsFromInvestingActivities: string (nullable = true)\n",
            " |-- dividendsPaid: string (nullable = true)\n",
            " |-- changeToInventory: string (nullable = true)\n",
            " |-- changeToAccountReceivables: string (nullable = true)\n",
            " |-- salePurchaseOfStock: string (nullable = true)\n",
            " |-- otherCashflowsFromFinancingActivities: string (nullable = true)\n",
            " |-- changeToNetincome: string (nullable = true)\n",
            " |-- capitalExpenditures: string (nullable = true)\n",
            " |-- changeReceivables: string (nullable = true)\n",
            " |-- cashFlowsOtherOperating: string (nullable = true)\n",
            " |-- exchangeRateChanges: string (nullable = true)\n",
            " |-- cashAndCashEquivalentsChanges: string (nullable = true)\n",
            " |-- date: string (nullable = true)\n",
            " |-- filing_date: string (nullable = true)\n",
            " |-- currency_symbol: string (nullable = true)\n",
            " |-- researchDevelopment: string (nullable = true)\n",
            " |-- effectOfAccountingCharges: string (nullable = true)\n",
            " |-- incomeBeforeTax: string (nullable = true)\n",
            " |-- minorityInterest: string (nullable = true)\n",
            " |-- netIncome_y: string (nullable = true)\n",
            " |-- sellingGeneralAdministrative: string (nullable = true)\n",
            " |-- grossProfit: string (nullable = true)\n",
            " |-- ebit: string (nullable = true)\n",
            " |-- nonOperatingIncomeNetOther: string (nullable = true)\n",
            " |-- operatingIncome: string (nullable = true)\n",
            " |-- otherOperatingExpenses: string (nullable = true)\n",
            " |-- interestExpense: string (nullable = true)\n",
            " |-- taxProvision: string (nullable = true)\n",
            " |-- interestIncome: string (nullable = true)\n",
            " |-- netInterestIncome: string (nullable = true)\n",
            " |-- extraordinaryItems: string (nullable = true)\n",
            " |-- nonRecurring: string (nullable = true)\n",
            " |-- otherItems: string (nullable = true)\n",
            " |-- incomeTaxExpense: string (nullable = true)\n",
            " |-- totalRevenue: string (nullable = true)\n",
            " |-- totalOperatingExpenses: string (nullable = true)\n",
            " |-- costOfRevenue: string (nullable = true)\n",
            " |-- totalOtherIncomeExpenseNet: string (nullable = true)\n",
            " |-- discontinuedOperations: string (nullable = true)\n",
            " |-- netIncomeFromContinuingOps: string (nullable = true)\n",
            " |-- netIncomeApplicableToCommonShares: string (nullable = true)\n",
            " |-- preferredStockAndOtherAdjustments: string (nullable = true)\n",
            " |-- Disclaimer: string (nullable = true)\n",
            " |-- RatingDate: string (nullable = true)\n",
            " |-- TotalEsg: double (nullable = true)\n",
            " |-- TotalEsgPercentile: string (nullable = true)\n",
            " |-- EnvironmentScore: double (nullable = true)\n",
            " |-- EnvironmentScorePercentile: string (nullable = true)\n",
            " |-- SocialScore: double (nullable = true)\n",
            " |-- SocialScorePercentile: string (nullable = true)\n",
            " |-- GovernanceScore: double (nullable = true)\n",
            " |-- GovernanceScorePercentile: string (nullable = true)\n",
            " |-- ControversyLevel: double (nullable = true)\n",
            " |-- Code: string (nullable = true)\n",
            " |-- Type: string (nullable = true)\n",
            " |-- Name: string (nullable = true)\n",
            " |-- Exchange: string (nullable = true)\n",
            " |-- CurrencyCode: string (nullable = true)\n",
            " |-- CurrencyName: string (nullable = true)\n",
            " |-- CurrencySymbol: string (nullable = true)\n",
            " |-- CountryName: string (nullable = true)\n",
            " |-- CountryISO: string (nullable = true)\n",
            " |-- ISIN: string (nullable = true)\n",
            " |-- CUSIP: string (nullable = true)\n",
            " |-- CIK: string (nullable = true)\n",
            " |-- EmployerIdNumber: string (nullable = true)\n",
            " |-- FiscalYearEnd: string (nullable = true)\n",
            " |-- IPODate: timestamp (nullable = true)\n",
            " |-- InternationalDomestic: string (nullable = true)\n",
            " |-- Sector: string (nullable = true)\n",
            " |-- Industry: string (nullable = true)\n",
            " |-- GicSector: string (nullable = true)\n",
            " |-- GicGroup: string (nullable = true)\n",
            " |-- GicIndustry: string (nullable = true)\n",
            " |-- GicSubIndustry: string (nullable = true)\n",
            " |-- HomeCategory: string (nullable = true)\n",
            " |-- IsDelisted: string (nullable = true)\n",
            " |-- Description: string (nullable = true)\n",
            " |-- Address: string (nullable = true)\n",
            " |-- AddressData: string (nullable = true)\n",
            " |-- Listings: string (nullable = true)\n",
            " |-- Officers: string (nullable = true)\n",
            " |-- Phone: string (nullable = true)\n",
            " |-- WebURL: string (nullable = true)\n",
            " |-- LogoURL: string (nullable = true)\n",
            " |-- FullTimeEmployees: string (nullable = true)\n",
            " |-- UpdatedAt: timestamp (nullable = true)\n",
            "\n"
          ],
          "name": "stdout"
        },
        {
          "output_type": "execute_result",
          "data": {
            "text/plain": [
              "165909"
            ]
          },
          "metadata": {
            "tags": []
          },
          "execution_count": 65
        },
        {
          "output_type": "stream",
          "text": [
            "+-----+----------+-------------+-----------------+--------------+----------------+-------------+------------------+-------------+----------------------+--------------------+----------------+-----------+----------------+-------------+-------------+------------+-------------+-----------------------+-------------+-----------------+----------------------+----------------------+----------------------+------------------+-------------------+-----------------+--------------------+--------------+-------------+-------------+---------------+--------------------+------------------------------------------+------------------------------------------------+-----------------------------------+-----------------------+----------------------+-------------------------+---------------------------+---------------+-----------------------+----------------------+----------------------------+---------------------+-----------------------+-----------------+--------------------------+--------------------------+----------------+--------+------------------------+---------------+--------------------------------+---------------------------+------------------------------+-----------------------+----------------------------+------+----+----------+-------------+-----------------+-------------+-------------------+-------------------------------------+--------------+--------------------------------+---------------------------+-------------+--------------+--------------------------------+------------+-------------------------------------+-------------+-----------------+--------------------------+-------------------+-------------------------------------+-----------------+-------------------+-----------------+-----------------------+-------------------+-----------------------------+----------+-----------+---------------+-------------------+-------------------------+---------------+----------------+-------------+----------------------------+-------------+-------------+--------------------------+---------------+----------------------+---------------+-------------+--------------+-----------------+------------------+------------+----------+----------------+-------------+----------------------+-------------+--------------------------+----------------------+--------------------------+---------------------------------+---------------------------------+--------------------+----------+--------+------------------+----------------+--------------------------+-----------+---------------------+---------------+-------------------------+----------------+----+------------+--------------------+--------+------------+------------+--------------+-----------+----------+------------+---------+----------+----------------+-------------+-------------------+---------------------+----------+--------------------+-----------+--------------------+--------------------+--------------------+------------+----------+--------------------+--------------------+--------------------+--------+--------------------+------------+--------------------+-------------------+-----------------+-------------------+\n",
            "|index|    date_x|filing_date_x|currency_symbol_x|   totalAssets|intangibleAssets|earningAssets|otherCurrentAssets|    totalLiab|totalStockholderEquity|deferredLongTermLiab|otherCurrentLiab|commonStock|retainedEarnings|    otherLiab|     goodWill| otherAssets|         cash|totalCurrentLiabilities|shortTermDebt|shortLongTermDebt|shortLongTermDebtTotal|otherStockholderEquity|propertyPlantEquipment|totalCurrentAssets|longTermInvestments|netTangibleAssets|shortTermInvestments|netReceivables| longTermDebt|    inventory|accountsPayable|totalPermanentEquity|noncontrollingInterestInConsolidatedEntity|temporaryEquityRedeemableNoncontrollingInterests|accumulatedOtherComprehensiveIncome|additionalPaidInCapital|commonStockTotalEquity|preferredStockTotalEquity|retainedEarningsTotalEquity|  treasuryStock|accumulatedAmortization|nonCurrrentAssetsOther|deferredLongTermAssetCharges|nonCurrentAssetsTotal|capitalLeaseObligations|longTermDebtTotal|nonCurrentLiabilitiesOther|nonCurrentLiabilitiesTotal|negativeGoodwill|warrants|preferredStockRedeemable|capitalSurpluse|liabilitiesAndStockholdersEquity|cashAndShortTermInvestments|propertyPlantAndEquipmentGross|accumulatedDepreciation|commonStockSharesOutstanding|ticker|year|    date_y|filing_date_y|currency_symbol_y|  investments|changeToLiabilities|totalCashflowsFromInvestingActivities| netBorrowings|totalCashFromFinancingActivities|changeToOperatingActivities|  netIncome_x|  changeInCash|totalCashFromOperatingActivities|depreciation|otherCashflowsFromInvestingActivities|dividendsPaid|changeToInventory|changeToAccountReceivables|salePurchaseOfStock|otherCashflowsFromFinancingActivities|changeToNetincome|capitalExpenditures|changeReceivables|cashFlowsOtherOperating|exchangeRateChanges|cashAndCashEquivalentsChanges|      date|filing_date|currency_symbol|researchDevelopment|effectOfAccountingCharges|incomeBeforeTax|minorityInterest|  netIncome_y|sellingGeneralAdministrative|  grossProfit|         ebit|nonOperatingIncomeNetOther|operatingIncome|otherOperatingExpenses|interestExpense| taxProvision|interestIncome|netInterestIncome|extraordinaryItems|nonRecurring|otherItems|incomeTaxExpense| totalRevenue|totalOperatingExpenses|costOfRevenue|totalOtherIncomeExpenseNet|discontinuedOperations|netIncomeFromContinuingOps|netIncomeApplicableToCommonShares|preferredStockAndOtherAdjustments|          Disclaimer|RatingDate|TotalEsg|TotalEsgPercentile|EnvironmentScore|EnvironmentScorePercentile|SocialScore|SocialScorePercentile|GovernanceScore|GovernanceScorePercentile|ControversyLevel|Code|        Type|                Name|Exchange|CurrencyCode|CurrencyName|CurrencySymbol|CountryName|CountryISO|        ISIN|    CUSIP|       CIK|EmployerIdNumber|FiscalYearEnd|            IPODate|InternationalDomestic|    Sector|            Industry|  GicSector|            GicGroup|         GicIndustry|      GicSubIndustry|HomeCategory|IsDelisted|         Description|             Address|         AddressData|Listings|            Officers|       Phone|              WebURL|            LogoURL|FullTimeEmployees|          UpdatedAt|\n",
            "+-----+----------+-------------+-----------------+--------------+----------------+-------------+------------------+-------------+----------------------+--------------------+----------------+-----------+----------------+-------------+-------------+------------+-------------+-----------------------+-------------+-----------------+----------------------+----------------------+----------------------+------------------+-------------------+-----------------+--------------------+--------------+-------------+-------------+---------------+--------------------+------------------------------------------+------------------------------------------------+-----------------------------------+-----------------------+----------------------+-------------------------+---------------------------+---------------+-----------------------+----------------------+----------------------------+---------------------+-----------------------+-----------------+--------------------------+--------------------------+----------------+--------+------------------------+---------------+--------------------------------+---------------------------+------------------------------+-----------------------+----------------------------+------+----+----------+-------------+-----------------+-------------+-------------------+-------------------------------------+--------------+--------------------------------+---------------------------+-------------+--------------+--------------------------------+------------+-------------------------------------+-------------+-----------------+--------------------------+-------------------+-------------------------------------+-----------------+-------------------+-----------------+-----------------------+-------------------+-----------------------------+----------+-----------+---------------+-------------------+-------------------------+---------------+----------------+-------------+----------------------------+-------------+-------------+--------------------------+---------------+----------------------+---------------+-------------+--------------+-----------------+------------------+------------+----------+----------------+-------------+----------------------+-------------+--------------------------+----------------------+--------------------------+---------------------------------+---------------------------------+--------------------+----------+--------+------------------+----------------+--------------------------+-----------+---------------------+---------------+-------------------------+----------------+----+------------+--------------------+--------+------------+------------+--------------+-----------+----------+------------+---------+----------+----------------+-------------+-------------------+---------------------+----------+--------------------+-----------+--------------------+--------------------+--------------------+------------+----------+--------------------+--------------------+--------------------+--------+--------------------+------------+--------------------+-------------------+-----------------+-------------------+\n",
            "|    0|2020-10-31|         null|              USD| 9627000000.00|   4433000000.00|         null|      216000000.00|4754000000.00|         4873000000.00|                null|    386000000.00| 3000000.00|     81000000.00|1003000000.00|4433000000.00|776000000.00|1441000000.00|          1467000000.00|  75000000.00|      75000000.00|                  null|         -522000000.00|          845000000.00|     3415000000.00|       158000000.00|     440000000.00|                null| 1038000000.00|2284000000.00| 720000000.00|   354000000.00|                null|                                      null|                                            null|                               null|                   null|                  null|                     null|                       null|           null|                   null|          776000000.00|                        null|        6212000000.00|                   null|    2284000000.00|              614000000.00|             3287000000.00|            null|    null|                    null|  5311000000.00|                            null|              1441000000.00|                          null|                   null|                        null|  A.US|2020|2020-10-31|         null|              USD|-147000000.00|         2000000.00|                        -147000000.00|  -45000000.00|                   -717000000.00|              -123000000.00| 719000000.00|   59000000.00|                    921000000.00|308000000.00|                          -9000000.00|-222000000.00|     -68000000.00|             -107000000.00|      -409000000.00|                          -4000000.00|     190000000.00|          119000000|             null|                   null|               null|                         null|2020-10-31|       null|            USD|       495000000.00|                     null|   842000000.00|            null| 719000000.00|               1496000000.00|2837000000.00|1228000000.00|                      null|   846000000.00|                  null|    78000000.00| 123000000.00|  -70000000.00|     -70000000.00|              null|        null|      null|    123000000.00|5339000000.00|         4493000000.00|2502000000.00|               66000000.00|                  null|              719000000.00|                     719000000.00|                             null|The ESG data curr...|2019-01-01|   17.72|              11.7|            0.63|                         2|        9.4|                    2|           5.95|                        2|             2.0|   A|Common Stock|Agilent Technolog...|    NYSE|         USD|   US Dollar|             $|        USA|        US|US00846U1016|00846U101|0001090872|      77-0518772|      October|1999-11-18 00:00:00| International/Dom...|Healthcare|Diagnostics & Res...|Health Care|Pharmaceuticals, ...|Life Sciences Too...|Life Sciences Too...|    Domestic|         0|Agilent Technolog...|5301 Stevens Cree...|{'Street': '5301 ...|      {}|{'0': {'Name': 'M...|800 227 9770|http://www.agilen...|/img/logos/US/a.png|            16400|2020-12-19 00:00:00|\n",
            "|    1|2019-10-31|   2019-12-19|              USD| 9452000000.00|   1107000000.00|         null|      198000000.00|4704000000.00|         4748000000.00|                null|    776000000.00| 3000000.00|    -18000000.00| 833000000.00|3593000000.00|611000000.00|1382000000.00|          2080000000.00| 616000000.00|     616000000.00|                  null|         -514000000.00|          850000000.00|     3189000000.00|       102000000.00|      48000000.00|                null|  930000000.00|1791000000.00| 679000000.00|   688000000.00|                null|                                      null|                                            null|                               null|                   null|            3000000.00|                     null|               -18000000.00|           null|                   null|          611000000.00|                        null|        6263000000.00|                   null|    1791000000.00|              833000000.00|             2624000000.00|            null|    null|                    null|  5277000000.00|                   9452000000.00|              1382000000.00|                          null|                   null|                318000000.00|  A.US|2019|2019-10-31|   2019-12-19|              USD| -26000000.00|        52000000.00|                       -1590000000.00|  596000000.00|                   -299000000.00|               -26000000.00|1071000000.00| -868000000.00|                   1021000000.00|238000000.00|                       -1409000000.00|-206000000.00|     -36000000.00|             -106000000.00|      -673000000.00|                         -16000000.00|    -149000000.00|          155000000|    -106000000.00|           -49000000.00|         2000000.00|                -866000000.00|2019-10-31| 2019-12-19|            USD|       404000000.00|                     null|   919000000.00|            null|1071000000.00|               1460000000.00|2805000000.00| 993000000.00|               52000000.00|   941000000.00|                  null|    74000000.00|-152000000.00|   36000000.00|     -38000000.00|              null|        null|      null|   -152000000.00|5163000000.00|         1864000000.00|2358000000.00|               16000000.00|                  null|             1071000000.00|                    1071000000.00|                             null|The ESG data curr...|2019-01-01|   17.72|              11.7|            0.63|                         2|        9.4|                    2|           5.95|                        2|             2.0|   A|Common Stock|Agilent Technolog...|    NYSE|         USD|   US Dollar|             $|        USA|        US|US00846U1016|00846U101|0001090872|      77-0518772|      October|1999-11-18 00:00:00| International/Dom...|Healthcare|Diagnostics & Res...|Health Care|Pharmaceuticals, ...|Life Sciences Too...|Life Sciences Too...|    Domestic|         0|Agilent Technolog...|5301 Stevens Cree...|{'Street': '5301 ...|      {}|{'0': {'Name': 'M...|800 227 9770|http://www.agilen...|/img/logos/US/a.png|            16400|2020-12-19 00:00:00|\n",
            "|    2|2018-10-31|   2018-12-20|              USD| 8541000000.00|    491000000.00|         null|      187000000.00|3970000000.00|         4567000000.00|                0.00|    527000000.00| 3000000.00|   -336000000.00|1000000000.00|2973000000.00|339000000.00|2247000000.00|          1171000000.00|         null|             null|                  null|         -408000000.00|          822000000.00|     3848000000.00|        68000000.00|    1103000000.00|                0.00|  776000000.00|1799000000.00| 638000000.00|   644000000.00|       4571000000.00|                                4000000.00|                                            0.00|                      -408000000.00|          5308000000.00|            3000000.00|                     0.00|              -336000000.00|           0.00|                   null|          339000000.00|                        null|        4693000000.00|                   null|    1799000000.00|             1000000000.00|             2799000000.00|            null|    null|                    null|  5308000000.00|                   8541000000.00|              2247000000.00|                          null|                   null|                325000000.00|  A.US|2018|2018-10-31|   2018-12-20|              USD|  -2000000.00|        71000000.00|                        -704000000.00| -210000000.00|                   -797000000.00|                27000000.00| 316000000.00| -414000000.00|                   1087000000.00|210000000.00|                        -525000000.00|-191000000.00|     -83000000.00|              -65000000.00|      -366000000.00|                         -30000000.00|      90000000.00|          177000000|     -65000000.00|           548000000.00|       -17000000.00|                -431000000.00|2018-10-31| 2018-12-20|            USD|       385000000.00|                     null|   946000000.00|      4000000.00| 316000000.00|               1374000000.00|2687000000.00|1021000000.00|               93000000.00|   928000000.00|                  null|    75000000.00| 630000000.00|   38000000.00|     -37000000.00|     -552000000.00|        null|      null|    630000000.00|4914000000.00|         1759000000.00|2227000000.00|               55000000.00|                  null|              316000000.00|                     316000000.00|                             null|The ESG data curr...|2019-01-01|   17.72|              11.7|            0.63|                         2|        9.4|                    2|           5.95|                        2|             2.0|   A|Common Stock|Agilent Technolog...|    NYSE|         USD|   US Dollar|             $|        USA|        US|US00846U1016|00846U101|0001090872|      77-0518772|      October|1999-11-18 00:00:00| International/Dom...|Healthcare|Diagnostics & Res...|Health Care|Pharmaceuticals, ...|Life Sciences Too...|Life Sciences Too...|    Domestic|         0|Agilent Technolog...|5301 Stevens Cree...|{'Street': '5301 ...|      {}|{'0': {'Name': 'M...|800 227 9770|http://www.agilen...|/img/logos/US/a.png|            16400|2020-12-19 00:00:00|\n",
            "|    3|2017-10-31|   2017-12-21|              USD| 8426000000.00|    361000000.00|         null|      192000000.00|3591000000.00|         4831000000.00|                0.00|    472000000.00| 3000000.00|   -126000000.00| 527000000.00|2607000000.00|394000000.00|2678000000.00|          1263000000.00| 210000000.00|     210000000.00|                  null|         -346000000.00|          757000000.00|     4169000000.00|       138000000.00|    1863000000.00|                0.00|  724000000.00|1801000000.00| 575000000.00|   581000000.00|       4835000000.00|                                4000000.00|                                            0.00|                      -346000000.00|          5300000000.00|            3000000.00|                     0.00|              -126000000.00|           0.00|                   null|          394000000.00|                        null|        4257000000.00|                   null|    1801000000.00|              527000000.00|             2328000000.00|            null|    null|                    null|  5300000000.00|                   8426000000.00|              2678000000.00|                          null|                   null|                326000000.00|  A.US|2017|2017-10-31|   2017-12-21|              USD|  -1000000.00|        40000000.00|                        -305000000.00|  110000000.00|                   -202000000.00|               -60000000.00| 684000000.00|  382000000.00|                    889000000.00|212000000.00|                        -128000000.00|-170000000.00|     -61000000.00|              -81000000.00|      -128000000.00|                         -14000000.00|     193000000.00|          176000000|     -81000000.00|           -98000000.00|         7000000.00|                 389000000.00|2017-10-31| 2017-12-21|            USD|       339000000.00|                     null|   803000000.00|      4000000.00| 684000000.00|               1229000000.00|2409000000.00| 882000000.00|               41000000.00|   841000000.00|                  null|    79000000.00| 119000000.00|   22000000.00|     -57000000.00|              null|        null|      null|    119000000.00|4472000000.00|         1568000000.00|2063000000.00|               19000000.00|                  null|              684000000.00|                     684000000.00|                             null|The ESG data curr...|2019-01-01|   17.72|              11.7|            0.63|                         2|        9.4|                    2|           5.95|                        2|             2.0|   A|Common Stock|Agilent Technolog...|    NYSE|         USD|   US Dollar|             $|        USA|        US|US00846U1016|00846U101|0001090872|      77-0518772|      October|1999-11-18 00:00:00| International/Dom...|Healthcare|Diagnostics & Res...|Health Care|Pharmaceuticals, ...|Life Sciences Too...|Life Sciences Too...|    Domestic|         0|Agilent Technolog...|5301 Stevens Cree...|{'Street': '5301 ...|      {}|{'0': {'Name': 'M...|800 227 9770|http://www.agilen...|/img/logos/US/a.png|            16400|2020-12-19 00:00:00|\n",
            "|    4|2016-10-31|   2016-12-20|              USD| 7794000000.00|    416000000.00|         null|      182000000.00|3551000000.00|         4243000000.00|                0.00|    453000000.00| 6000000.00|   6089000000.00| 699000000.00|2517000000.00|452000000.00|2289000000.00|           945000000.00|1904000000.00|    1904000000.00|                  null|         -503000000.00|          639000000.00|     3635000000.00|       135000000.00|    1310000000.00|                0.00|  631000000.00|1904000000.00| 533000000.00|   257000000.00|       4246000000.00|                                      0.00|                                            0.00|                      -503000000.00|          9159000000.00|            6000000.00|                     0.00|              6089000000.00|-10508000000.00|                   null|          468000000.00|                        null|        4167000000.00|                   null|    1904000000.00|              339000000.00|             2611000000.00|            null|    null|                    null|  9159000000.00|                   7802000000.00|              2289000000.00|                          null|                   null|                329000000.00|  A.US|2016|2016-10-31|   2016-12-20|              USD|-238000000.00|       -15000000.00|                        -238000000.00|  262000000.00|                   -268000000.00|                15000000.00| 462000000.00|  286000000.00|                    793000000.00|246000000.00|                         -99000000.00|-150000000.00|      -7000000.00|              -33000000.00|      -372000000.00|                          -8000000.00|     125000000.00|          139000000|     -33000000.00|                   null|        -1000000.00|                 286000000.00|2016-10-31| 2016-12-20|            USD|       329000000.00|                     null|   544000000.00|      3000000.00| 462000000.00|               1253000000.00|2200000000.00| 862000000.00|                1000000.00|   615000000.00|                  null|     3000000.00|  82000000.00|  -70000000.00|     -61000000.00|              null|        null|      null|     82000000.00|4202000000.00|         3587000000.00|2002000000.00|              -10000000.00|                  null|              462000000.00|                     462000000.00|                             null|The ESG data curr...|2019-01-01|   17.72|              11.7|            0.63|                         2|        9.4|                    2|           5.95|                        2|             2.0|   A|Common Stock|Agilent Technolog...|    NYSE|         USD|   US Dollar|             $|        USA|        US|US00846U1016|00846U101|0001090872|      77-0518772|      October|1999-11-18 00:00:00| International/Dom...|Healthcare|Diagnostics & Res...|Health Care|Pharmaceuticals, ...|Life Sciences Too...|Life Sciences Too...|    Domestic|         0|Agilent Technolog...|5301 Stevens Cree...|{'Street': '5301 ...|      {}|{'0': {'Name': 'M...|800 227 9770|http://www.agilen...|/img/logos/US/a.png|            16400|2020-12-19 00:00:00|\n",
            "|    5|2015-10-31|   2015-12-21|              USD| 7479000000.00|    445000000.00|         null|      294000000.00|3309000000.00|         4167000000.00|                0.00|    476000000.00| 6000000.00|   5581000000.00| 678000000.00|2366000000.00|292000000.00|2245000000.00|           976000000.00|1655000000.00|    1655000000.00|                  null|         -391000000.00|          604000000.00|     3686000000.00|        86000000.00|    1356000000.00|        242000000.00|  606000000.00|1655000000.00| 541000000.00|   500000000.00|                0.00|                                3000000.00|                                            0.00|                               0.00|                   0.00|            6000000.00|                     0.00|              5581000000.00|-10074000000.00|                   null|          292000000.00|                        null|        3793000000.00|                   null|    1655000000.00|              678000000.00|             2333000000.00|            null|    null|                    null|  9045000000.00|                   7479000000.00|              2245000000.00|                          null|                   null|                335000000.00|  A.US|2015|2015-10-31|   2015-12-21|              USD|  -3000000.00|       -18000000.00|                        -400000000.00|  262000000.00|                  -1068000000.00|              -241000000.00| 401000000.00| -977000000.00|                    491000000.00|253000000.00|                        -299000000.00|-133000000.00|     -24000000.00|              -24000000.00|      -209000000.00|                        -726000000.00|     165000000.00|           98000000|     -24000000.00|          -262000000.00|       -48000000.00|               -1025000000.00|2015-10-31| 2015-12-21|            USD|       330000000.00|                     null|   480000000.00|      3000000.00| 401000000.00|               1189000000.00|2041000000.00| 546000000.00|               24000000.00|   522000000.00|                  null|    66000000.00|  42000000.00|  -89000000.00|             null|      -37000000.00|        null|      null|     42000000.00|4038000000.00|         1519000000.00|1997000000.00|              -45000000.00|          -37000000.00|              438000000.00|                     401000000.00|                             null|The ESG data curr...|2019-01-01|   17.72|              11.7|            0.63|                         2|        9.4|                    2|           5.95|                        2|             2.0|   A|Common Stock|Agilent Technolog...|    NYSE|         USD|   US Dollar|             $|        USA|        US|US00846U1016|00846U101|0001090872|      77-0518772|      October|1999-11-18 00:00:00| International/Dom...|Healthcare|Diagnostics & Res...|Health Care|Pharmaceuticals, ...|Life Sciences Too...|Life Sciences Too...|    Domestic|         0|Agilent Technolog...|5301 Stevens Cree...|{'Street': '5301 ...|      {}|{'0': {'Name': 'M...|800 227 9770|http://www.agilen...|/img/logos/US/a.png|            16400|2020-12-19 00:00:00|\n",
            "|    6|2014-10-31|   2014-12-22|              USD|10831000000.00|    667000000.00|         null|      417000000.00|5530000000.00|         5298000000.00|                0.00|    832000000.00| 6000000.00|   6466000000.00| 929000000.00|2899000000.00|505000000.00|3028000000.00|          1702000000.00|1663000000.00|    1663000000.00|                  null|         -334000000.00|         1101000000.00|     5500000000.00|       159000000.00|    1732000000.00|                0.00|  983000000.00|2762000000.00|1072000000.00|   870000000.00|                0.00|                                3000000.00|                                            0.00|                               0.00|                   0.00|            6000000.00|                     0.00|              6466000000.00| -9807000000.00|                   null|          505000000.00|                        null|        5331000000.00|                   null|    2762000000.00|             1066000000.00|             3828000000.00|            null|    null|                    null|  8967000000.00|                  10831000000.00|              3028000000.00|                          null|                   null|                338000000.00|  A.US|2014|2014-10-31|   2014-12-22|              USD| -24000000.00|        59000000.00|                        -230000000.00|   90000000.00|                    -97000000.00|               -17000000.00| 504000000.00|  384000000.00|                    711000000.00|384000000.00|                          -1000000.00|-176000000.00|     -99000000.00|              119000000.00|       -12000000.00|                           1000000.00|      64000000.00|          205000000|    -119000000.00|           -82000000.00|       -31000000.00|                 353000000.00|2014-10-31| 2014-12-22|            USD|       719000000.00|                     null|   646000000.00|      3000000.00| 504000000.00|               2043000000.00|3593000000.00| 759000000.00|              -72000000.00|   831000000.00|                  null|   113000000.00|         null|          null|             null|              null|        null|      null|    142000000.00|6981000000.00|         2762000000.00|3388000000.00|                      0.00|          317000000.00|              504000000.00|                     504000000.00|                             null|The ESG data curr...|2019-01-01|   17.72|              11.7|            0.63|                         2|        9.4|                    2|           5.95|                        2|             2.0|   A|Common Stock|Agilent Technolog...|    NYSE|         USD|   US Dollar|             $|        USA|        US|US00846U1016|00846U101|0001090872|      77-0518772|      October|1999-11-18 00:00:00| International/Dom...|Healthcare|Diagnostics & Res...|Health Care|Pharmaceuticals, ...|Life Sciences Too...|Life Sciences Too...|    Domestic|         0|Agilent Technolog...|5301 Stevens Cree...|{'Street': '5301 ...|      {}|{'0': {'Name': 'M...|800 227 9770|http://www.agilen...|/img/logos/US/a.png|            16400|2020-12-19 00:00:00|\n",
            "|    7|2013-10-31|   2013-12-19|              USD|10686000000.00|    916000000.00|         null|      343000000.00|5397000000.00|         5286000000.00|                0.00|    769000000.00| 6000000.00|   6073000000.00| 883000000.00|3047000000.00|467000000.00|2675000000.00|          1602000000.00|         null|             null|                  null|           91000000.00|         1134000000.00|     4983000000.00|       139000000.00|    1323000000.00|                0.00|  899000000.00|2699000000.00|1066000000.00|   833000000.00|                0.00|                                3000000.00|                                            0.00|                               0.00|                   0.00|            6000000.00|                     0.00|              6073000000.00| -9607000000.00|                   null|          467000000.00|                        null|        5703000000.00|                   null|    2699000000.00|             1096000000.00|             3795000000.00|            null|    null|                    null|  8723000000.00|                  10686000000.00|              2675000000.00|                          null|                   null|                345000000.00|  A.US|2013|2013-10-31|   2013-12-19|              USD| -34000000.00|       -11000000.00|                        -248000000.00|  342000000.00|                   -554000000.00|                       null| 724000000.00|  350000000.00|                   1152000000.00|372000000.00|                         -19000000.00|-156000000.00|    -100000000.00|               14000000.00|      -742000000.00|                           2000000.00|     170000000.00|          195000000|      14000000.00|           -17000000.00|       -26000000.00|                 324000000.00|2013-10-31| 2013-12-19|            USD|       704000000.00|                     null|   859000000.00|            null| 724000000.00|               1880000000.00|3535000000.00| 966000000.00|               15000000.00|   951000000.00|                  null|   107000000.00|         null|          null|             null|              null|        null|      null|    135000000.00|6782000000.00|         2584000000.00|3247000000.00|                      0.00|                  null|              724000000.00|                     724000000.00|                             null|The ESG data curr...|2019-01-01|   17.72|              11.7|            0.63|                         2|        9.4|                    2|           5.95|                        2|             2.0|   A|Common Stock|Agilent Technolog...|    NYSE|         USD|   US Dollar|             $|        USA|        US|US00846U1016|00846U101|0001090872|      77-0518772|      October|1999-11-18 00:00:00| International/Dom...|Healthcare|Diagnostics & Res...|Health Care|Pharmaceuticals, ...|Life Sciences Too...|Life Sciences Too...|    Domestic|         0|Agilent Technolog...|5301 Stevens Cree...|{'Street': '5301 ...|      {}|{'0': {'Name': 'M...|800 227 9770|http://www.agilen...|/img/logos/US/a.png|            16400|2020-12-19 00:00:00|\n",
            "|    8|2012-10-31|   2012-12-20|              USD|10536000000.00|   1086000000.00|         null|      341000000.00|5351000000.00|         5182000000.00|                0.00|    795000000.00| 6000000.00|   5505000000.00|1143000000.00|3025000000.00|523000000.00|2351000000.00|          1893000000.00| 250000000.00|             null|                  null|         -111000000.00|         1164000000.00|     4629000000.00|       109000000.00|    1071000000.00|                0.00|  923000000.00|2112000000.00|1014000000.00|   848000000.00|                0.00|                                3000000.00|                                            0.00|                               0.00|                   0.00|            6000000.00|                     0.00|              5505000000.00| -8707000000.00|                   null|          523000000.00|                        null|        5907000000.00|                   null|    2112000000.00|             1346000000.00|             3458000000.00|            null|    null|                    null|  8489000000.00|                  10536000000.00|              2351000000.00|                          null|                   null|                353000000.00|  A.US|2012|2012-10-31|   2012-12-20|              USD|   5000000.00|       -85000000.00|                       -2372000000.00|  145000000.00|                    -31000000.00|                       null|1153000000.00|-1175000000.00|                   1228000000.00|301000000.00|                       -2183000000.00|-104000000.00|     -52000000.00|               19000000.00|       -72000000.00|                                 null|     -50000000.00|          194000000|      19000000.00|           -58000000.00|        -1000000.00|               -1176000000.00|2012-10-31| 2012-12-20|            USD|       668000000.00|                     null|  1043000000.00|            null|1153000000.00|               1817000000.00|3604000000.00|1144000000.00|               25000000.00|  1119000000.00|                  null|   101000000.00|         null|          null|             null|              null|        null|      null|   -110000000.00|6858000000.00|         2485000000.00|3254000000.00|                      0.00|                  null|             1153000000.00|                    1153000000.00|                             null|The ESG data curr...|2019-01-01|   17.72|              11.7|            0.63|                         2|        9.4|                    2|           5.95|                        2|             2.0|   A|Common Stock|Agilent Technolog...|    NYSE|         USD|   US Dollar|             $|        USA|        US|US00846U1016|00846U101|0001090872|      77-0518772|      October|1999-11-18 00:00:00| International/Dom...|Healthcare|Diagnostics & Res...|Health Care|Pharmaceuticals, ...|Life Sciences Too...|Life Sciences Too...|    Domestic|         0|Agilent Technolog...|5301 Stevens Cree...|{'Street': '5301 ...|      {}|{'0': {'Name': 'M...|800 227 9770|http://www.agilen...|/img/logos/US/a.png|            16400|2020-12-19 00:00:00|\n",
            "|    9|2011-10-31|   2011-12-16|              USD| 9057000000.00|    429000000.00|         null|      284000000.00|4741000000.00|         4308000000.00|                0.00|    688000000.00| 6000000.00|   4456000000.00| 930000000.00|1567000000.00|369000000.00|3527000000.00|          1837000000.00| 253000000.00|             null|                  null|          116000000.00|         1006000000.00|     5569000000.00|       117000000.00|    2312000000.00|                0.00|  860000000.00|1932000000.00| 898000000.00|   896000000.00|                0.00|                                8000000.00|                                            0.00|                               0.00|                   0.00|            6000000.00|                     0.00|              4456000000.00| -8535000000.00|                   null|          369000000.00|                        null|        3488000000.00|                   null|    1932000000.00|              972000000.00|             2904000000.00|            null|    null|                    null|  8265000000.00|                   9057000000.00|              3527000000.00|                          null|                   null|                355000000.00|  A.US|2011|2011-10-31|   2011-12-16|              USD|  16000000.00|       -11000000.00|                        1294000000.00|-1500000000.00|                  -1693000000.00|                       null|1012000000.00|  861000000.00|                   1260000000.00|253000000.00|                        1466000000.00|         0.00|    -208000000.00|               11000000.00|      -193000000.00|                                 null|     220000000.00|          188000000|      11000000.00|           -17000000.00|        17000000.00|                 878000000.00|2011-10-31| 2011-12-16|            USD|       649000000.00|                     null|  1032000000.00|            null|1012000000.00|               1809000000.00|3529000000.00|1118000000.00|               47000000.00|  1071000000.00|                  null|    86000000.00|         null|          null|             null|              null|        null|      null|     20000000.00|6615000000.00|         2458000000.00|3086000000.00|                      0.00|                  null|             1012000000.00|                    1012000000.00|                             null|The ESG data curr...|2019-01-01|   17.72|              11.7|            0.63|                         2|        9.4|                    2|           5.95|                        2|             2.0|   A|Common Stock|Agilent Technolog...|    NYSE|         USD|   US Dollar|             $|        USA|        US|US00846U1016|00846U101|0001090872|      77-0518772|      October|1999-11-18 00:00:00| International/Dom...|Healthcare|Diagnostics & Res...|Health Care|Pharmaceuticals, ...|Life Sciences Too...|Life Sciences Too...|    Domestic|         0|Agilent Technolog...|5301 Stevens Cree...|{'Street': '5301 ...|      {}|{'0': {'Name': 'M...|800 227 9770|http://www.agilen...|/img/logos/US/a.png|            16400|2020-12-19 00:00:00|\n",
            "+-----+----------+-------------+-----------------+--------------+----------------+-------------+------------------+-------------+----------------------+--------------------+----------------+-----------+----------------+-------------+-------------+------------+-------------+-----------------------+-------------+-----------------+----------------------+----------------------+----------------------+------------------+-------------------+-----------------+--------------------+--------------+-------------+-------------+---------------+--------------------+------------------------------------------+------------------------------------------------+-----------------------------------+-----------------------+----------------------+-------------------------+---------------------------+---------------+-----------------------+----------------------+----------------------------+---------------------+-----------------------+-----------------+--------------------------+--------------------------+----------------+--------+------------------------+---------------+--------------------------------+---------------------------+------------------------------+-----------------------+----------------------------+------+----+----------+-------------+-----------------+-------------+-------------------+-------------------------------------+--------------+--------------------------------+---------------------------+-------------+--------------+--------------------------------+------------+-------------------------------------+-------------+-----------------+--------------------------+-------------------+-------------------------------------+-----------------+-------------------+-----------------+-----------------------+-------------------+-----------------------------+----------+-----------+---------------+-------------------+-------------------------+---------------+----------------+-------------+----------------------------+-------------+-------------+--------------------------+---------------+----------------------+---------------+-------------+--------------+-----------------+------------------+------------+----------+----------------+-------------+----------------------+-------------+--------------------------+----------------------+--------------------------+---------------------------------+---------------------------------+--------------------+----------+--------+------------------+----------------+--------------------------+-----------+---------------------+---------------+-------------------------+----------------+----+------------+--------------------+--------+------------+------------+--------------+-----------+----------+------------+---------+----------+----------------+-------------+-------------------+---------------------+----------+--------------------+-----------+--------------------+--------------------+--------------------+------------+----------+--------------------+--------------------+--------------------+--------+--------------------+------------+--------------------+-------------------+-----------------+-------------------+\n",
            "only showing top 10 rows\n",
            "\n"
          ],
          "name": "stdout"
        }
      ]
    },
    {
      "cell_type": "code",
      "metadata": {
        "colab": {
          "base_uri": "https://localhost:8080/"
        },
        "id": "mKPrynWr1mP8",
        "outputId": "7ee6eff3-f475-4ec7-b0fc-a61aba6d1bb8"
      },
      "source": [
        "SQL = \"\"\" \n",
        "          Select * from Emissions e\"\"\"\n",
        "results_emission = spark.sql(SQL)\n",
        "results_emission.count() # 1611\n",
        "results_emission.show(10)\n",
        "results_emission.printSchema()\n"
      ],
      "execution_count": 68,
      "outputs": [
        {
          "output_type": "execute_result",
          "data": {
            "text/plain": [
              "1611"
            ]
          },
          "metadata": {
            "tags": []
          },
          "execution_count": 68
        },
        {
          "output_type": "stream",
          "text": [
            "+-----+----+------------+-------------------+\n",
            "|index|year|carbonOutput|     reference_name|\n",
            "+-----+----+------------+-------------------+\n",
            "|   78|2020|     151.157|       3i Group plc|\n",
            "|  151|2019|       142.2|       3i Group plc|\n",
            "|  231|2018|       156.0|       3i Group plc|\n",
            "|  518|2020|   4050000.0|         3M Company|\n",
            "|  624|2019|   4790000.0|         3M Company|\n",
            "|  726|2018|   3960000.0|         3M Company|\n",
            "| 1516|2020|    533000.0|Abbott Laboratories|\n",
            "| 1602|2019|    525000.0|Abbott Laboratories|\n",
            "| 1687|2018|    531000.0|Abbott Laboratories|\n",
            "| 1775|2020|    314421.0|         AbbVie Inc|\n",
            "+-----+----+------------+-------------------+\n",
            "only showing top 10 rows\n",
            "\n",
            "root\n",
            " |-- index: long (nullable = true)\n",
            " |-- year: long (nullable = true)\n",
            " |-- carbonOutput: double (nullable = true)\n",
            " |-- reference_name: string (nullable = true)\n",
            "\n"
          ],
          "name": "stdout"
        }
      ]
    },
    {
      "cell_type": "code",
      "metadata": {
        "colab": {
          "base_uri": "https://localhost:8080/"
        },
        "id": "VTNTPot81OB2",
        "outputId": "e0807e90-3544-4bd7-d2da-4f6913d234cc"
      },
      "source": [
        "SQL = \"\"\" \n",
        "          Select * from FullMerge f left join Emissions e\n",
        "          on f.name=e.reference_name and f.year= e.year \n",
        "        \"\"\"\n",
        "results_full_merge_emission = spark.sql(SQL)\n",
        "results_full_merge_emission.count()\n",
        "results_full_merge_emission.show(10)\n"
      ],
      "execution_count": 75,
      "outputs": [
        {
          "output_type": "execute_result",
          "data": {
            "text/plain": [
              "165909"
            ]
          },
          "metadata": {
            "tags": []
          },
          "execution_count": 75
        },
        {
          "output_type": "stream",
          "text": [
            "+-----+----------+-------------+-----------------+--------------+----------------+-------------+------------------+-------------+----------------------+--------------------+----------------+-----------+----------------+-------------+-------------+------------+-------------+-----------------------+-------------+-----------------+----------------------+----------------------+----------------------+------------------+-------------------+-----------------+--------------------+--------------+-------------+-------------+---------------+--------------------+------------------------------------------+------------------------------------------------+-----------------------------------+-----------------------+----------------------+-------------------------+---------------------------+---------------+-----------------------+----------------------+----------------------------+---------------------+-----------------------+-----------------+--------------------------+--------------------------+----------------+--------+------------------------+---------------+--------------------------------+---------------------------+------------------------------+-----------------------+----------------------------+------+----+----------+-------------+-----------------+-------------+-------------------+-------------------------------------+--------------+--------------------------------+---------------------------+-------------+--------------+--------------------------------+------------+-------------------------------------+-------------+-----------------+--------------------------+-------------------+-------------------------------------+-----------------+-------------------+-----------------+-----------------------+-------------------+-----------------------------+----------+-----------+---------------+-------------------+-------------------------+---------------+----------------+-------------+----------------------------+-------------+-------------+--------------------------+---------------+----------------------+---------------+-------------+--------------+-----------------+------------------+------------+----------+----------------+-------------+----------------------+-------------+--------------------------+----------------------+--------------------------+---------------------------------+---------------------------------+--------------------+----------+--------+------------------+----------------+--------------------------+-----------+---------------------+---------------+-------------------------+----------------+----+------------+--------------------+--------+------------+------------+--------------+-----------+----------+------------+---------+----------+----------------+-------------+-------------------+---------------------+----------+--------------------+-----------+--------------------+--------------------+--------------------+------------+----------+--------------------+--------------------+--------------------+--------+--------------------+------------+--------------------+-------------------+-----------------+-------------------+-----+----+------------+--------------------+\n",
            "|index|    date_x|filing_date_x|currency_symbol_x|   totalAssets|intangibleAssets|earningAssets|otherCurrentAssets|    totalLiab|totalStockholderEquity|deferredLongTermLiab|otherCurrentLiab|commonStock|retainedEarnings|    otherLiab|     goodWill| otherAssets|         cash|totalCurrentLiabilities|shortTermDebt|shortLongTermDebt|shortLongTermDebtTotal|otherStockholderEquity|propertyPlantEquipment|totalCurrentAssets|longTermInvestments|netTangibleAssets|shortTermInvestments|netReceivables| longTermDebt|    inventory|accountsPayable|totalPermanentEquity|noncontrollingInterestInConsolidatedEntity|temporaryEquityRedeemableNoncontrollingInterests|accumulatedOtherComprehensiveIncome|additionalPaidInCapital|commonStockTotalEquity|preferredStockTotalEquity|retainedEarningsTotalEquity|  treasuryStock|accumulatedAmortization|nonCurrrentAssetsOther|deferredLongTermAssetCharges|nonCurrentAssetsTotal|capitalLeaseObligations|longTermDebtTotal|nonCurrentLiabilitiesOther|nonCurrentLiabilitiesTotal|negativeGoodwill|warrants|preferredStockRedeemable|capitalSurpluse|liabilitiesAndStockholdersEquity|cashAndShortTermInvestments|propertyPlantAndEquipmentGross|accumulatedDepreciation|commonStockSharesOutstanding|ticker|year|    date_y|filing_date_y|currency_symbol_y|  investments|changeToLiabilities|totalCashflowsFromInvestingActivities| netBorrowings|totalCashFromFinancingActivities|changeToOperatingActivities|  netIncome_x|  changeInCash|totalCashFromOperatingActivities|depreciation|otherCashflowsFromInvestingActivities|dividendsPaid|changeToInventory|changeToAccountReceivables|salePurchaseOfStock|otherCashflowsFromFinancingActivities|changeToNetincome|capitalExpenditures|changeReceivables|cashFlowsOtherOperating|exchangeRateChanges|cashAndCashEquivalentsChanges|      date|filing_date|currency_symbol|researchDevelopment|effectOfAccountingCharges|incomeBeforeTax|minorityInterest|  netIncome_y|sellingGeneralAdministrative|  grossProfit|         ebit|nonOperatingIncomeNetOther|operatingIncome|otherOperatingExpenses|interestExpense| taxProvision|interestIncome|netInterestIncome|extraordinaryItems|nonRecurring|otherItems|incomeTaxExpense| totalRevenue|totalOperatingExpenses|costOfRevenue|totalOtherIncomeExpenseNet|discontinuedOperations|netIncomeFromContinuingOps|netIncomeApplicableToCommonShares|preferredStockAndOtherAdjustments|          Disclaimer|RatingDate|TotalEsg|TotalEsgPercentile|EnvironmentScore|EnvironmentScorePercentile|SocialScore|SocialScorePercentile|GovernanceScore|GovernanceScorePercentile|ControversyLevel|Code|        Type|                Name|Exchange|CurrencyCode|CurrencyName|CurrencySymbol|CountryName|CountryISO|        ISIN|    CUSIP|       CIK|EmployerIdNumber|FiscalYearEnd|            IPODate|InternationalDomestic|    Sector|            Industry|  GicSector|            GicGroup|         GicIndustry|      GicSubIndustry|HomeCategory|IsDelisted|         Description|             Address|         AddressData|Listings|            Officers|       Phone|              WebURL|            LogoURL|FullTimeEmployees|          UpdatedAt|index|year|carbonOutput|      reference_name|\n",
            "+-----+----------+-------------+-----------------+--------------+----------------+-------------+------------------+-------------+----------------------+--------------------+----------------+-----------+----------------+-------------+-------------+------------+-------------+-----------------------+-------------+-----------------+----------------------+----------------------+----------------------+------------------+-------------------+-----------------+--------------------+--------------+-------------+-------------+---------------+--------------------+------------------------------------------+------------------------------------------------+-----------------------------------+-----------------------+----------------------+-------------------------+---------------------------+---------------+-----------------------+----------------------+----------------------------+---------------------+-----------------------+-----------------+--------------------------+--------------------------+----------------+--------+------------------------+---------------+--------------------------------+---------------------------+------------------------------+-----------------------+----------------------------+------+----+----------+-------------+-----------------+-------------+-------------------+-------------------------------------+--------------+--------------------------------+---------------------------+-------------+--------------+--------------------------------+------------+-------------------------------------+-------------+-----------------+--------------------------+-------------------+-------------------------------------+-----------------+-------------------+-----------------+-----------------------+-------------------+-----------------------------+----------+-----------+---------------+-------------------+-------------------------+---------------+----------------+-------------+----------------------------+-------------+-------------+--------------------------+---------------+----------------------+---------------+-------------+--------------+-----------------+------------------+------------+----------+----------------+-------------+----------------------+-------------+--------------------------+----------------------+--------------------------+---------------------------------+---------------------------------+--------------------+----------+--------+------------------+----------------+--------------------------+-----------+---------------------+---------------+-------------------------+----------------+----+------------+--------------------+--------+------------+------------+--------------+-----------+----------+------------+---------+----------+----------------+-------------+-------------------+---------------------+----------+--------------------+-----------+--------------------+--------------------+--------------------+------------+----------+--------------------+--------------------+--------------------+--------+--------------------+------------+--------------------+-------------------+-----------------+-------------------+-----+----+------------+--------------------+\n",
            "|    0|2020-10-31|         null|              USD| 9627000000.00|   4433000000.00|         null|      216000000.00|4754000000.00|         4873000000.00|                null|    386000000.00| 3000000.00|     81000000.00|1003000000.00|4433000000.00|776000000.00|1441000000.00|          1467000000.00|  75000000.00|      75000000.00|                  null|         -522000000.00|          845000000.00|     3415000000.00|       158000000.00|     440000000.00|                null| 1038000000.00|2284000000.00| 720000000.00|   354000000.00|                null|                                      null|                                            null|                               null|                   null|                  null|                     null|                       null|           null|                   null|          776000000.00|                        null|        6212000000.00|                   null|    2284000000.00|              614000000.00|             3287000000.00|            null|    null|                    null|  5311000000.00|                            null|              1441000000.00|                          null|                   null|                        null|  A.US|2020|2020-10-31|         null|              USD|-147000000.00|         2000000.00|                        -147000000.00|  -45000000.00|                   -717000000.00|              -123000000.00| 719000000.00|   59000000.00|                    921000000.00|308000000.00|                          -9000000.00|-222000000.00|     -68000000.00|             -107000000.00|      -409000000.00|                          -4000000.00|     190000000.00|          119000000|             null|                   null|               null|                         null|2020-10-31|       null|            USD|       495000000.00|                     null|   842000000.00|            null| 719000000.00|               1496000000.00|2837000000.00|1228000000.00|                      null|   846000000.00|                  null|    78000000.00| 123000000.00|  -70000000.00|     -70000000.00|              null|        null|      null|    123000000.00|5339000000.00|         4493000000.00|2502000000.00|               66000000.00|                  null|              719000000.00|                     719000000.00|                             null|The ESG data curr...|2019-01-01|   17.72|              11.7|            0.63|                         2|        9.4|                    2|           5.95|                        2|             2.0|   A|Common Stock|Agilent Technolog...|    NYSE|         USD|   US Dollar|             $|        USA|        US|US00846U1016|00846U101|0001090872|      77-0518772|      October|1999-11-18 00:00:00| International/Dom...|Healthcare|Diagnostics & Res...|Health Care|Pharmaceuticals, ...|Life Sciences Too...|Life Sciences Too...|    Domestic|         0|Agilent Technolog...|5301 Stevens Cree...|{'Street': '5301 ...|      {}|{'0': {'Name': 'M...|800 227 9770|http://www.agilen...|/img/logos/US/a.png|            16400|2020-12-19 00:00:00| 4695|2020|      9192.0|Agilent Technolog...|\n",
            "|    1|2019-10-31|   2019-12-19|              USD| 9452000000.00|   1107000000.00|         null|      198000000.00|4704000000.00|         4748000000.00|                null|    776000000.00| 3000000.00|    -18000000.00| 833000000.00|3593000000.00|611000000.00|1382000000.00|          2080000000.00| 616000000.00|     616000000.00|                  null|         -514000000.00|          850000000.00|     3189000000.00|       102000000.00|      48000000.00|                null|  930000000.00|1791000000.00| 679000000.00|   688000000.00|                null|                                      null|                                            null|                               null|                   null|            3000000.00|                     null|               -18000000.00|           null|                   null|          611000000.00|                        null|        6263000000.00|                   null|    1791000000.00|              833000000.00|             2624000000.00|            null|    null|                    null|  5277000000.00|                   9452000000.00|              1382000000.00|                          null|                   null|                318000000.00|  A.US|2019|2019-10-31|   2019-12-19|              USD| -26000000.00|        52000000.00|                       -1590000000.00|  596000000.00|                   -299000000.00|               -26000000.00|1071000000.00| -868000000.00|                   1021000000.00|238000000.00|                       -1409000000.00|-206000000.00|     -36000000.00|             -106000000.00|      -673000000.00|                         -16000000.00|    -149000000.00|          155000000|    -106000000.00|           -49000000.00|         2000000.00|                -866000000.00|2019-10-31| 2019-12-19|            USD|       404000000.00|                     null|   919000000.00|            null|1071000000.00|               1460000000.00|2805000000.00| 993000000.00|               52000000.00|   941000000.00|                  null|    74000000.00|-152000000.00|   36000000.00|     -38000000.00|              null|        null|      null|   -152000000.00|5163000000.00|         1864000000.00|2358000000.00|               16000000.00|                  null|             1071000000.00|                    1071000000.00|                             null|The ESG data curr...|2019-01-01|   17.72|              11.7|            0.63|                         2|        9.4|                    2|           5.95|                        2|             2.0|   A|Common Stock|Agilent Technolog...|    NYSE|         USD|   US Dollar|             $|        USA|        US|US00846U1016|00846U101|0001090872|      77-0518772|      October|1999-11-18 00:00:00| International/Dom...|Healthcare|Diagnostics & Res...|Health Care|Pharmaceuticals, ...|Life Sciences Too...|Life Sciences Too...|    Domestic|         0|Agilent Technolog...|5301 Stevens Cree...|{'Street': '5301 ...|      {}|{'0': {'Name': 'M...|800 227 9770|http://www.agilen...|/img/logos/US/a.png|            16400|2020-12-19 00:00:00| 4780|2019|      7508.0|Agilent Technolog...|\n",
            "|    2|2018-10-31|   2018-12-20|              USD| 8541000000.00|    491000000.00|         null|      187000000.00|3970000000.00|         4567000000.00|                0.00|    527000000.00| 3000000.00|   -336000000.00|1000000000.00|2973000000.00|339000000.00|2247000000.00|          1171000000.00|         null|             null|                  null|         -408000000.00|          822000000.00|     3848000000.00|        68000000.00|    1103000000.00|                0.00|  776000000.00|1799000000.00| 638000000.00|   644000000.00|       4571000000.00|                                4000000.00|                                            0.00|                      -408000000.00|          5308000000.00|            3000000.00|                     0.00|              -336000000.00|           0.00|                   null|          339000000.00|                        null|        4693000000.00|                   null|    1799000000.00|             1000000000.00|             2799000000.00|            null|    null|                    null|  5308000000.00|                   8541000000.00|              2247000000.00|                          null|                   null|                325000000.00|  A.US|2018|2018-10-31|   2018-12-20|              USD|  -2000000.00|        71000000.00|                        -704000000.00| -210000000.00|                   -797000000.00|                27000000.00| 316000000.00| -414000000.00|                   1087000000.00|210000000.00|                        -525000000.00|-191000000.00|     -83000000.00|              -65000000.00|      -366000000.00|                         -30000000.00|      90000000.00|          177000000|     -65000000.00|           548000000.00|       -17000000.00|                -431000000.00|2018-10-31| 2018-12-20|            USD|       385000000.00|                     null|   946000000.00|      4000000.00| 316000000.00|               1374000000.00|2687000000.00|1021000000.00|               93000000.00|   928000000.00|                  null|    75000000.00| 630000000.00|   38000000.00|     -37000000.00|     -552000000.00|        null|      null|    630000000.00|4914000000.00|         1759000000.00|2227000000.00|               55000000.00|                  null|              316000000.00|                     316000000.00|                             null|The ESG data curr...|2019-01-01|   17.72|              11.7|            0.63|                         2|        9.4|                    2|           5.95|                        2|             2.0|   A|Common Stock|Agilent Technolog...|    NYSE|         USD|   US Dollar|             $|        USA|        US|US00846U1016|00846U101|0001090872|      77-0518772|      October|1999-11-18 00:00:00| International/Dom...|Healthcare|Diagnostics & Res...|Health Care|Pharmaceuticals, ...|Life Sciences Too...|Life Sciences Too...|    Domestic|         0|Agilent Technolog...|5301 Stevens Cree...|{'Street': '5301 ...|      {}|{'0': {'Name': 'M...|800 227 9770|http://www.agilen...|/img/logos/US/a.png|            16400|2020-12-19 00:00:00| 4866|2018|      8196.0|Agilent Technolog...|\n",
            "|    3|2017-10-31|   2017-12-21|              USD| 8426000000.00|    361000000.00|         null|      192000000.00|3591000000.00|         4831000000.00|                0.00|    472000000.00| 3000000.00|   -126000000.00| 527000000.00|2607000000.00|394000000.00|2678000000.00|          1263000000.00| 210000000.00|     210000000.00|                  null|         -346000000.00|          757000000.00|     4169000000.00|       138000000.00|    1863000000.00|                0.00|  724000000.00|1801000000.00| 575000000.00|   581000000.00|       4835000000.00|                                4000000.00|                                            0.00|                      -346000000.00|          5300000000.00|            3000000.00|                     0.00|              -126000000.00|           0.00|                   null|          394000000.00|                        null|        4257000000.00|                   null|    1801000000.00|              527000000.00|             2328000000.00|            null|    null|                    null|  5300000000.00|                   8426000000.00|              2678000000.00|                          null|                   null|                326000000.00|  A.US|2017|2017-10-31|   2017-12-21|              USD|  -1000000.00|        40000000.00|                        -305000000.00|  110000000.00|                   -202000000.00|               -60000000.00| 684000000.00|  382000000.00|                    889000000.00|212000000.00|                        -128000000.00|-170000000.00|     -61000000.00|              -81000000.00|      -128000000.00|                         -14000000.00|     193000000.00|          176000000|     -81000000.00|           -98000000.00|         7000000.00|                 389000000.00|2017-10-31| 2017-12-21|            USD|       339000000.00|                     null|   803000000.00|      4000000.00| 684000000.00|               1229000000.00|2409000000.00| 882000000.00|               41000000.00|   841000000.00|                  null|    79000000.00| 119000000.00|   22000000.00|     -57000000.00|              null|        null|      null|    119000000.00|4472000000.00|         1568000000.00|2063000000.00|               19000000.00|                  null|              684000000.00|                     684000000.00|                             null|The ESG data curr...|2019-01-01|   17.72|              11.7|            0.63|                         2|        9.4|                    2|           5.95|                        2|             2.0|   A|Common Stock|Agilent Technolog...|    NYSE|         USD|   US Dollar|             $|        USA|        US|US00846U1016|00846U101|0001090872|      77-0518772|      October|1999-11-18 00:00:00| International/Dom...|Healthcare|Diagnostics & Res...|Health Care|Pharmaceuticals, ...|Life Sciences Too...|Life Sciences Too...|    Domestic|         0|Agilent Technolog...|5301 Stevens Cree...|{'Street': '5301 ...|      {}|{'0': {'Name': 'M...|800 227 9770|http://www.agilen...|/img/logos/US/a.png|            16400|2020-12-19 00:00:00| null|null|        null|                null|\n",
            "|    4|2016-10-31|   2016-12-20|              USD| 7794000000.00|    416000000.00|         null|      182000000.00|3551000000.00|         4243000000.00|                0.00|    453000000.00| 6000000.00|   6089000000.00| 699000000.00|2517000000.00|452000000.00|2289000000.00|           945000000.00|1904000000.00|    1904000000.00|                  null|         -503000000.00|          639000000.00|     3635000000.00|       135000000.00|    1310000000.00|                0.00|  631000000.00|1904000000.00| 533000000.00|   257000000.00|       4246000000.00|                                      0.00|                                            0.00|                      -503000000.00|          9159000000.00|            6000000.00|                     0.00|              6089000000.00|-10508000000.00|                   null|          468000000.00|                        null|        4167000000.00|                   null|    1904000000.00|              339000000.00|             2611000000.00|            null|    null|                    null|  9159000000.00|                   7802000000.00|              2289000000.00|                          null|                   null|                329000000.00|  A.US|2016|2016-10-31|   2016-12-20|              USD|-238000000.00|       -15000000.00|                        -238000000.00|  262000000.00|                   -268000000.00|                15000000.00| 462000000.00|  286000000.00|                    793000000.00|246000000.00|                         -99000000.00|-150000000.00|      -7000000.00|              -33000000.00|      -372000000.00|                          -8000000.00|     125000000.00|          139000000|     -33000000.00|                   null|        -1000000.00|                 286000000.00|2016-10-31| 2016-12-20|            USD|       329000000.00|                     null|   544000000.00|      3000000.00| 462000000.00|               1253000000.00|2200000000.00| 862000000.00|                1000000.00|   615000000.00|                  null|     3000000.00|  82000000.00|  -70000000.00|     -61000000.00|              null|        null|      null|     82000000.00|4202000000.00|         3587000000.00|2002000000.00|              -10000000.00|                  null|              462000000.00|                     462000000.00|                             null|The ESG data curr...|2019-01-01|   17.72|              11.7|            0.63|                         2|        9.4|                    2|           5.95|                        2|             2.0|   A|Common Stock|Agilent Technolog...|    NYSE|         USD|   US Dollar|             $|        USA|        US|US00846U1016|00846U101|0001090872|      77-0518772|      October|1999-11-18 00:00:00| International/Dom...|Healthcare|Diagnostics & Res...|Health Care|Pharmaceuticals, ...|Life Sciences Too...|Life Sciences Too...|    Domestic|         0|Agilent Technolog...|5301 Stevens Cree...|{'Street': '5301 ...|      {}|{'0': {'Name': 'M...|800 227 9770|http://www.agilen...|/img/logos/US/a.png|            16400|2020-12-19 00:00:00| null|null|        null|                null|\n",
            "|    5|2015-10-31|   2015-12-21|              USD| 7479000000.00|    445000000.00|         null|      294000000.00|3309000000.00|         4167000000.00|                0.00|    476000000.00| 6000000.00|   5581000000.00| 678000000.00|2366000000.00|292000000.00|2245000000.00|           976000000.00|1655000000.00|    1655000000.00|                  null|         -391000000.00|          604000000.00|     3686000000.00|        86000000.00|    1356000000.00|        242000000.00|  606000000.00|1655000000.00| 541000000.00|   500000000.00|                0.00|                                3000000.00|                                            0.00|                               0.00|                   0.00|            6000000.00|                     0.00|              5581000000.00|-10074000000.00|                   null|          292000000.00|                        null|        3793000000.00|                   null|    1655000000.00|              678000000.00|             2333000000.00|            null|    null|                    null|  9045000000.00|                   7479000000.00|              2245000000.00|                          null|                   null|                335000000.00|  A.US|2015|2015-10-31|   2015-12-21|              USD|  -3000000.00|       -18000000.00|                        -400000000.00|  262000000.00|                  -1068000000.00|              -241000000.00| 401000000.00| -977000000.00|                    491000000.00|253000000.00|                        -299000000.00|-133000000.00|     -24000000.00|              -24000000.00|      -209000000.00|                        -726000000.00|     165000000.00|           98000000|     -24000000.00|          -262000000.00|       -48000000.00|               -1025000000.00|2015-10-31| 2015-12-21|            USD|       330000000.00|                     null|   480000000.00|      3000000.00| 401000000.00|               1189000000.00|2041000000.00| 546000000.00|               24000000.00|   522000000.00|                  null|    66000000.00|  42000000.00|  -89000000.00|             null|      -37000000.00|        null|      null|     42000000.00|4038000000.00|         1519000000.00|1997000000.00|              -45000000.00|          -37000000.00|              438000000.00|                     401000000.00|                             null|The ESG data curr...|2019-01-01|   17.72|              11.7|            0.63|                         2|        9.4|                    2|           5.95|                        2|             2.0|   A|Common Stock|Agilent Technolog...|    NYSE|         USD|   US Dollar|             $|        USA|        US|US00846U1016|00846U101|0001090872|      77-0518772|      October|1999-11-18 00:00:00| International/Dom...|Healthcare|Diagnostics & Res...|Health Care|Pharmaceuticals, ...|Life Sciences Too...|Life Sciences Too...|    Domestic|         0|Agilent Technolog...|5301 Stevens Cree...|{'Street': '5301 ...|      {}|{'0': {'Name': 'M...|800 227 9770|http://www.agilen...|/img/logos/US/a.png|            16400|2020-12-19 00:00:00| null|null|        null|                null|\n",
            "|    6|2014-10-31|   2014-12-22|              USD|10831000000.00|    667000000.00|         null|      417000000.00|5530000000.00|         5298000000.00|                0.00|    832000000.00| 6000000.00|   6466000000.00| 929000000.00|2899000000.00|505000000.00|3028000000.00|          1702000000.00|1663000000.00|    1663000000.00|                  null|         -334000000.00|         1101000000.00|     5500000000.00|       159000000.00|    1732000000.00|                0.00|  983000000.00|2762000000.00|1072000000.00|   870000000.00|                0.00|                                3000000.00|                                            0.00|                               0.00|                   0.00|            6000000.00|                     0.00|              6466000000.00| -9807000000.00|                   null|          505000000.00|                        null|        5331000000.00|                   null|    2762000000.00|             1066000000.00|             3828000000.00|            null|    null|                    null|  8967000000.00|                  10831000000.00|              3028000000.00|                          null|                   null|                338000000.00|  A.US|2014|2014-10-31|   2014-12-22|              USD| -24000000.00|        59000000.00|                        -230000000.00|   90000000.00|                    -97000000.00|               -17000000.00| 504000000.00|  384000000.00|                    711000000.00|384000000.00|                          -1000000.00|-176000000.00|     -99000000.00|              119000000.00|       -12000000.00|                           1000000.00|      64000000.00|          205000000|    -119000000.00|           -82000000.00|       -31000000.00|                 353000000.00|2014-10-31| 2014-12-22|            USD|       719000000.00|                     null|   646000000.00|      3000000.00| 504000000.00|               2043000000.00|3593000000.00| 759000000.00|              -72000000.00|   831000000.00|                  null|   113000000.00|         null|          null|             null|              null|        null|      null|    142000000.00|6981000000.00|         2762000000.00|3388000000.00|                      0.00|          317000000.00|              504000000.00|                     504000000.00|                             null|The ESG data curr...|2019-01-01|   17.72|              11.7|            0.63|                         2|        9.4|                    2|           5.95|                        2|             2.0|   A|Common Stock|Agilent Technolog...|    NYSE|         USD|   US Dollar|             $|        USA|        US|US00846U1016|00846U101|0001090872|      77-0518772|      October|1999-11-18 00:00:00| International/Dom...|Healthcare|Diagnostics & Res...|Health Care|Pharmaceuticals, ...|Life Sciences Too...|Life Sciences Too...|    Domestic|         0|Agilent Technolog...|5301 Stevens Cree...|{'Street': '5301 ...|      {}|{'0': {'Name': 'M...|800 227 9770|http://www.agilen...|/img/logos/US/a.png|            16400|2020-12-19 00:00:00| null|null|        null|                null|\n",
            "|    7|2013-10-31|   2013-12-19|              USD|10686000000.00|    916000000.00|         null|      343000000.00|5397000000.00|         5286000000.00|                0.00|    769000000.00| 6000000.00|   6073000000.00| 883000000.00|3047000000.00|467000000.00|2675000000.00|          1602000000.00|         null|             null|                  null|           91000000.00|         1134000000.00|     4983000000.00|       139000000.00|    1323000000.00|                0.00|  899000000.00|2699000000.00|1066000000.00|   833000000.00|                0.00|                                3000000.00|                                            0.00|                               0.00|                   0.00|            6000000.00|                     0.00|              6073000000.00| -9607000000.00|                   null|          467000000.00|                        null|        5703000000.00|                   null|    2699000000.00|             1096000000.00|             3795000000.00|            null|    null|                    null|  8723000000.00|                  10686000000.00|              2675000000.00|                          null|                   null|                345000000.00|  A.US|2013|2013-10-31|   2013-12-19|              USD| -34000000.00|       -11000000.00|                        -248000000.00|  342000000.00|                   -554000000.00|                       null| 724000000.00|  350000000.00|                   1152000000.00|372000000.00|                         -19000000.00|-156000000.00|    -100000000.00|               14000000.00|      -742000000.00|                           2000000.00|     170000000.00|          195000000|      14000000.00|           -17000000.00|       -26000000.00|                 324000000.00|2013-10-31| 2013-12-19|            USD|       704000000.00|                     null|   859000000.00|            null| 724000000.00|               1880000000.00|3535000000.00| 966000000.00|               15000000.00|   951000000.00|                  null|   107000000.00|         null|          null|             null|              null|        null|      null|    135000000.00|6782000000.00|         2584000000.00|3247000000.00|                      0.00|                  null|              724000000.00|                     724000000.00|                             null|The ESG data curr...|2019-01-01|   17.72|              11.7|            0.63|                         2|        9.4|                    2|           5.95|                        2|             2.0|   A|Common Stock|Agilent Technolog...|    NYSE|         USD|   US Dollar|             $|        USA|        US|US00846U1016|00846U101|0001090872|      77-0518772|      October|1999-11-18 00:00:00| International/Dom...|Healthcare|Diagnostics & Res...|Health Care|Pharmaceuticals, ...|Life Sciences Too...|Life Sciences Too...|    Domestic|         0|Agilent Technolog...|5301 Stevens Cree...|{'Street': '5301 ...|      {}|{'0': {'Name': 'M...|800 227 9770|http://www.agilen...|/img/logos/US/a.png|            16400|2020-12-19 00:00:00| null|null|        null|                null|\n",
            "|    8|2012-10-31|   2012-12-20|              USD|10536000000.00|   1086000000.00|         null|      341000000.00|5351000000.00|         5182000000.00|                0.00|    795000000.00| 6000000.00|   5505000000.00|1143000000.00|3025000000.00|523000000.00|2351000000.00|          1893000000.00| 250000000.00|             null|                  null|         -111000000.00|         1164000000.00|     4629000000.00|       109000000.00|    1071000000.00|                0.00|  923000000.00|2112000000.00|1014000000.00|   848000000.00|                0.00|                                3000000.00|                                            0.00|                               0.00|                   0.00|            6000000.00|                     0.00|              5505000000.00| -8707000000.00|                   null|          523000000.00|                        null|        5907000000.00|                   null|    2112000000.00|             1346000000.00|             3458000000.00|            null|    null|                    null|  8489000000.00|                  10536000000.00|              2351000000.00|                          null|                   null|                353000000.00|  A.US|2012|2012-10-31|   2012-12-20|              USD|   5000000.00|       -85000000.00|                       -2372000000.00|  145000000.00|                    -31000000.00|                       null|1153000000.00|-1175000000.00|                   1228000000.00|301000000.00|                       -2183000000.00|-104000000.00|     -52000000.00|               19000000.00|       -72000000.00|                                 null|     -50000000.00|          194000000|      19000000.00|           -58000000.00|        -1000000.00|               -1176000000.00|2012-10-31| 2012-12-20|            USD|       668000000.00|                     null|  1043000000.00|            null|1153000000.00|               1817000000.00|3604000000.00|1144000000.00|               25000000.00|  1119000000.00|                  null|   101000000.00|         null|          null|             null|              null|        null|      null|   -110000000.00|6858000000.00|         2485000000.00|3254000000.00|                      0.00|                  null|             1153000000.00|                    1153000000.00|                             null|The ESG data curr...|2019-01-01|   17.72|              11.7|            0.63|                         2|        9.4|                    2|           5.95|                        2|             2.0|   A|Common Stock|Agilent Technolog...|    NYSE|         USD|   US Dollar|             $|        USA|        US|US00846U1016|00846U101|0001090872|      77-0518772|      October|1999-11-18 00:00:00| International/Dom...|Healthcare|Diagnostics & Res...|Health Care|Pharmaceuticals, ...|Life Sciences Too...|Life Sciences Too...|    Domestic|         0|Agilent Technolog...|5301 Stevens Cree...|{'Street': '5301 ...|      {}|{'0': {'Name': 'M...|800 227 9770|http://www.agilen...|/img/logos/US/a.png|            16400|2020-12-19 00:00:00| null|null|        null|                null|\n",
            "|    9|2011-10-31|   2011-12-16|              USD| 9057000000.00|    429000000.00|         null|      284000000.00|4741000000.00|         4308000000.00|                0.00|    688000000.00| 6000000.00|   4456000000.00| 930000000.00|1567000000.00|369000000.00|3527000000.00|          1837000000.00| 253000000.00|             null|                  null|          116000000.00|         1006000000.00|     5569000000.00|       117000000.00|    2312000000.00|                0.00|  860000000.00|1932000000.00| 898000000.00|   896000000.00|                0.00|                                8000000.00|                                            0.00|                               0.00|                   0.00|            6000000.00|                     0.00|              4456000000.00| -8535000000.00|                   null|          369000000.00|                        null|        3488000000.00|                   null|    1932000000.00|              972000000.00|             2904000000.00|            null|    null|                    null|  8265000000.00|                   9057000000.00|              3527000000.00|                          null|                   null|                355000000.00|  A.US|2011|2011-10-31|   2011-12-16|              USD|  16000000.00|       -11000000.00|                        1294000000.00|-1500000000.00|                  -1693000000.00|                       null|1012000000.00|  861000000.00|                   1260000000.00|253000000.00|                        1466000000.00|         0.00|    -208000000.00|               11000000.00|      -193000000.00|                                 null|     220000000.00|          188000000|      11000000.00|           -17000000.00|        17000000.00|                 878000000.00|2011-10-31| 2011-12-16|            USD|       649000000.00|                     null|  1032000000.00|            null|1012000000.00|               1809000000.00|3529000000.00|1118000000.00|               47000000.00|  1071000000.00|                  null|    86000000.00|         null|          null|             null|              null|        null|      null|     20000000.00|6615000000.00|         2458000000.00|3086000000.00|                      0.00|                  null|             1012000000.00|                    1012000000.00|                             null|The ESG data curr...|2019-01-01|   17.72|              11.7|            0.63|                         2|        9.4|                    2|           5.95|                        2|             2.0|   A|Common Stock|Agilent Technolog...|    NYSE|         USD|   US Dollar|             $|        USA|        US|US00846U1016|00846U101|0001090872|      77-0518772|      October|1999-11-18 00:00:00| International/Dom...|Healthcare|Diagnostics & Res...|Health Care|Pharmaceuticals, ...|Life Sciences Too...|Life Sciences Too...|    Domestic|         0|Agilent Technolog...|5301 Stevens Cree...|{'Street': '5301 ...|      {}|{'0': {'Name': 'M...|800 227 9770|http://www.agilen...|/img/logos/US/a.png|            16400|2020-12-19 00:00:00| null|null|        null|                null|\n",
            "+-----+----------+-------------+-----------------+--------------+----------------+-------------+------------------+-------------+----------------------+--------------------+----------------+-----------+----------------+-------------+-------------+------------+-------------+-----------------------+-------------+-----------------+----------------------+----------------------+----------------------+------------------+-------------------+-----------------+--------------------+--------------+-------------+-------------+---------------+--------------------+------------------------------------------+------------------------------------------------+-----------------------------------+-----------------------+----------------------+-------------------------+---------------------------+---------------+-----------------------+----------------------+----------------------------+---------------------+-----------------------+-----------------+--------------------------+--------------------------+----------------+--------+------------------------+---------------+--------------------------------+---------------------------+------------------------------+-----------------------+----------------------------+------+----+----------+-------------+-----------------+-------------+-------------------+-------------------------------------+--------------+--------------------------------+---------------------------+-------------+--------------+--------------------------------+------------+-------------------------------------+-------------+-----------------+--------------------------+-------------------+-------------------------------------+-----------------+-------------------+-----------------+-----------------------+-------------------+-----------------------------+----------+-----------+---------------+-------------------+-------------------------+---------------+----------------+-------------+----------------------------+-------------+-------------+--------------------------+---------------+----------------------+---------------+-------------+--------------+-----------------+------------------+------------+----------+----------------+-------------+----------------------+-------------+--------------------------+----------------------+--------------------------+---------------------------------+---------------------------------+--------------------+----------+--------+------------------+----------------+--------------------------+-----------+---------------------+---------------+-------------------------+----------------+----+------------+--------------------+--------+------------+------------+--------------+-----------+----------+------------+---------+----------+----------------+-------------+-------------------+---------------------+----------+--------------------+-----------+--------------------+--------------------+--------------------+------------+----------+--------------------+--------------------+--------------------+--------+--------------------+------------+--------------------+-------------------+-----------------+-------------------+-----+----+------------+--------------------+\n",
            "only showing top 10 rows\n",
            "\n"
          ],
          "name": "stdout"
        }
      ]
    },
    {
      "cell_type": "code",
      "metadata": {
        "colab": {
          "base_uri": "https://localhost:8080/"
        },
        "id": "tZBJk4Zr0w0p",
        "outputId": "8581364b-a407-48b3-8489-7c8bdc696d0f"
      },
      "source": [
        "SQL = \"\"\" \n",
        "          Select * from FullMerge f left join\n",
        "           Emissions e on f.name=e.reference_name and f.year= e.year left join Fundmapping fm\n",
        "          where f.name=e.reference_name and f.year= e.year and f.name= fm.name\n",
        "        \"\"\"\n",
        "results_full_merge_emission_fundmapping = spark.sql(SQL)\n",
        "results_full_merge_emission_fundmapping.count()\n",
        "results_full_merge_emission_fundmapping.show(10)"
      ],
      "execution_count": 76,
      "outputs": [
        {
          "output_type": "execute_result",
          "data": {
            "text/plain": [
              "215894"
            ]
          },
          "metadata": {
            "tags": []
          },
          "execution_count": 76
        },
        {
          "output_type": "stream",
          "text": [
            "+-----+----------+-------------+-----------------+-------------+----------------+-------------+------------------+-------------+----------------------+--------------------+----------------+-----------+----------------+-------------+-------------+------------+-------------+-----------------------+-------------+-----------------+----------------------+----------------------+----------------------+------------------+-------------------+-----------------+--------------------+--------------+-------------+------------+---------------+--------------------+------------------------------------------+------------------------------------------------+-----------------------------------+-----------------------+----------------------+-------------------------+---------------------------+-------------+-----------------------+----------------------+----------------------------+---------------------+-----------------------+-----------------+--------------------------+--------------------------+----------------+--------+------------------------+---------------+--------------------------------+---------------------------+------------------------------+-----------------------+----------------------------+------+----+----------+-------------+-----------------+-------------+-------------------+-------------------------------------+-------------+--------------------------------+---------------------------+------------+------------+--------------------------------+------------+-------------------------------------+-------------+-----------------+--------------------------+-------------------+-------------------------------------+-----------------+-------------------+-----------------+-----------------------+-------------------+-----------------------------+----------+-----------+---------------+-------------------+-------------------------+---------------+----------------+------------+----------------------------+-------------+-------------+--------------------------+---------------+----------------------+---------------+------------+--------------+-----------------+------------------+------------+----------+----------------+-------------+----------------------+-------------+--------------------------+----------------------+--------------------------+---------------------------------+---------------------------------+--------------------+----------+--------+------------------+----------------+--------------------------+-----------+---------------------+---------------+-------------------------+----------------+----+------------+--------------------+--------+------------+------------+--------------+-----------+----------+------------+---------+----------+----------------+-------------+-------------------+---------------------+----------+--------------------+-----------+--------------------+--------------------+--------------------+------------+----------+--------------------+--------------------+--------------------+--------+--------------------+------------+--------------------+-------------------+-----------------+-------------------+-----+----+------------+--------------------+-----+--------------------+--------+-----------+---------+--------------------+--------------------+\n",
            "|index|    date_x|filing_date_x|currency_symbol_x|  totalAssets|intangibleAssets|earningAssets|otherCurrentAssets|    totalLiab|totalStockholderEquity|deferredLongTermLiab|otherCurrentLiab|commonStock|retainedEarnings|    otherLiab|     goodWill| otherAssets|         cash|totalCurrentLiabilities|shortTermDebt|shortLongTermDebt|shortLongTermDebtTotal|otherStockholderEquity|propertyPlantEquipment|totalCurrentAssets|longTermInvestments|netTangibleAssets|shortTermInvestments|netReceivables| longTermDebt|   inventory|accountsPayable|totalPermanentEquity|noncontrollingInterestInConsolidatedEntity|temporaryEquityRedeemableNoncontrollingInterests|accumulatedOtherComprehensiveIncome|additionalPaidInCapital|commonStockTotalEquity|preferredStockTotalEquity|retainedEarningsTotalEquity|treasuryStock|accumulatedAmortization|nonCurrrentAssetsOther|deferredLongTermAssetCharges|nonCurrentAssetsTotal|capitalLeaseObligations|longTermDebtTotal|nonCurrentLiabilitiesOther|nonCurrentLiabilitiesTotal|negativeGoodwill|warrants|preferredStockRedeemable|capitalSurpluse|liabilitiesAndStockholdersEquity|cashAndShortTermInvestments|propertyPlantAndEquipmentGross|accumulatedDepreciation|commonStockSharesOutstanding|ticker|year|    date_y|filing_date_y|currency_symbol_y|  investments|changeToLiabilities|totalCashflowsFromInvestingActivities|netBorrowings|totalCashFromFinancingActivities|changeToOperatingActivities| netIncome_x|changeInCash|totalCashFromOperatingActivities|depreciation|otherCashflowsFromInvestingActivities|dividendsPaid|changeToInventory|changeToAccountReceivables|salePurchaseOfStock|otherCashflowsFromFinancingActivities|changeToNetincome|capitalExpenditures|changeReceivables|cashFlowsOtherOperating|exchangeRateChanges|cashAndCashEquivalentsChanges|      date|filing_date|currency_symbol|researchDevelopment|effectOfAccountingCharges|incomeBeforeTax|minorityInterest| netIncome_y|sellingGeneralAdministrative|  grossProfit|         ebit|nonOperatingIncomeNetOther|operatingIncome|otherOperatingExpenses|interestExpense|taxProvision|interestIncome|netInterestIncome|extraordinaryItems|nonRecurring|otherItems|incomeTaxExpense| totalRevenue|totalOperatingExpenses|costOfRevenue|totalOtherIncomeExpenseNet|discontinuedOperations|netIncomeFromContinuingOps|netIncomeApplicableToCommonShares|preferredStockAndOtherAdjustments|          Disclaimer|RatingDate|TotalEsg|TotalEsgPercentile|EnvironmentScore|EnvironmentScorePercentile|SocialScore|SocialScorePercentile|GovernanceScore|GovernanceScorePercentile|ControversyLevel|Code|        Type|                Name|Exchange|CurrencyCode|CurrencyName|CurrencySymbol|CountryName|CountryISO|        ISIN|    CUSIP|       CIK|EmployerIdNumber|FiscalYearEnd|            IPODate|InternationalDomestic|    Sector|            Industry|  GicSector|            GicGroup|         GicIndustry|      GicSubIndustry|HomeCategory|IsDelisted|         Description|             Address|         AddressData|Listings|            Officers|       Phone|              WebURL|            LogoURL|FullTimeEmployees|          UpdatedAt|index|year|carbonOutput|      reference_name|index|                Name|Exchange|CountryName|Fund_Code|           embedding|AllFundsAVGembedding|\n",
            "+-----+----------+-------------+-----------------+-------------+----------------+-------------+------------------+-------------+----------------------+--------------------+----------------+-----------+----------------+-------------+-------------+------------+-------------+-----------------------+-------------+-----------------+----------------------+----------------------+----------------------+------------------+-------------------+-----------------+--------------------+--------------+-------------+------------+---------------+--------------------+------------------------------------------+------------------------------------------------+-----------------------------------+-----------------------+----------------------+-------------------------+---------------------------+-------------+-----------------------+----------------------+----------------------------+---------------------+-----------------------+-----------------+--------------------------+--------------------------+----------------+--------+------------------------+---------------+--------------------------------+---------------------------+------------------------------+-----------------------+----------------------------+------+----+----------+-------------+-----------------+-------------+-------------------+-------------------------------------+-------------+--------------------------------+---------------------------+------------+------------+--------------------------------+------------+-------------------------------------+-------------+-----------------+--------------------------+-------------------+-------------------------------------+-----------------+-------------------+-----------------+-----------------------+-------------------+-----------------------------+----------+-----------+---------------+-------------------+-------------------------+---------------+----------------+------------+----------------------------+-------------+-------------+--------------------------+---------------+----------------------+---------------+------------+--------------+-----------------+------------------+------------+----------+----------------+-------------+----------------------+-------------+--------------------------+----------------------+--------------------------+---------------------------------+---------------------------------+--------------------+----------+--------+------------------+----------------+--------------------------+-----------+---------------------+---------------+-------------------------+----------------+----+------------+--------------------+--------+------------+------------+--------------+-----------+----------+------------+---------+----------+----------------+-------------+-------------------+---------------------+----------+--------------------+-----------+--------------------+--------------------+--------------------+------------+----------+--------------------+--------------------+--------------------+--------+--------------------+------------+--------------------+-------------------+-----------------+-------------------+-----+----+------------+--------------------+-----+--------------------+--------+-----------+---------+--------------------+--------------------+\n",
            "|    0|2020-10-31|         null|              USD|9627000000.00|   4433000000.00|         null|      216000000.00|4754000000.00|         4873000000.00|                null|    386000000.00| 3000000.00|     81000000.00|1003000000.00|4433000000.00|776000000.00|1441000000.00|          1467000000.00|  75000000.00|      75000000.00|                  null|         -522000000.00|          845000000.00|     3415000000.00|       158000000.00|     440000000.00|                null| 1038000000.00|2284000000.00|720000000.00|   354000000.00|                null|                                      null|                                            null|                               null|                   null|                  null|                     null|                       null|         null|                   null|          776000000.00|                        null|        6212000000.00|                   null|    2284000000.00|              614000000.00|             3287000000.00|            null|    null|                    null|  5311000000.00|                            null|              1441000000.00|                          null|                   null|                        null|  A.US|2020|2020-10-31|         null|              USD|-147000000.00|         2000000.00|                        -147000000.00| -45000000.00|                   -717000000.00|              -123000000.00|719000000.00| 59000000.00|                    921000000.00|308000000.00|                          -9000000.00|-222000000.00|     -68000000.00|             -107000000.00|      -409000000.00|                          -4000000.00|     190000000.00|          119000000|             null|                   null|               null|                         null|2020-10-31|       null|            USD|       495000000.00|                     null|   842000000.00|            null|719000000.00|               1496000000.00|2837000000.00|1228000000.00|                      null|   846000000.00|                  null|    78000000.00|123000000.00|  -70000000.00|     -70000000.00|              null|        null|      null|    123000000.00|5339000000.00|         4493000000.00|2502000000.00|               66000000.00|                  null|              719000000.00|                     719000000.00|                             null|The ESG data curr...|2019-01-01|   17.72|              11.7|            0.63|                         2|        9.4|                    2|           5.95|                        2|             2.0|   A|Common Stock|Agilent Technolog...|    NYSE|         USD|   US Dollar|             $|        USA|        US|US00846U1016|00846U101|0001090872|      77-0518772|      October|1999-11-18 00:00:00| International/Dom...|Healthcare|Diagnostics & Res...|Health Care|Pharmaceuticals, ...|Life Sciences Too...|Life Sciences Too...|    Domestic|         0|Agilent Technolog...|5301 Stevens Cree...|{'Street': '5301 ...|      {}|{'0': {'Name': 'M...|800 227 9770|http://www.agilen...|/img/logos/US/a.png|            16400|2020-12-19 00:00:00| 4695|2020|      9192.0|Agilent Technolog...|    0|Agilent Technolog...|    NYSE|        USA|     ACVF|[93 4E 55 4D 50 5...|[93 4E 55 4D 50 5...|\n",
            "|    0|2020-10-31|         null|              USD|9627000000.00|   4433000000.00|         null|      216000000.00|4754000000.00|         4873000000.00|                null|    386000000.00| 3000000.00|     81000000.00|1003000000.00|4433000000.00|776000000.00|1441000000.00|          1467000000.00|  75000000.00|      75000000.00|                  null|         -522000000.00|          845000000.00|     3415000000.00|       158000000.00|     440000000.00|                null| 1038000000.00|2284000000.00|720000000.00|   354000000.00|                null|                                      null|                                            null|                               null|                   null|                  null|                     null|                       null|         null|                   null|          776000000.00|                        null|        6212000000.00|                   null|    2284000000.00|              614000000.00|             3287000000.00|            null|    null|                    null|  5311000000.00|                            null|              1441000000.00|                          null|                   null|                        null|  A.US|2020|2020-10-31|         null|              USD|-147000000.00|         2000000.00|                        -147000000.00| -45000000.00|                   -717000000.00|              -123000000.00|719000000.00| 59000000.00|                    921000000.00|308000000.00|                          -9000000.00|-222000000.00|     -68000000.00|             -107000000.00|      -409000000.00|                          -4000000.00|     190000000.00|          119000000|             null|                   null|               null|                         null|2020-10-31|       null|            USD|       495000000.00|                     null|   842000000.00|            null|719000000.00|               1496000000.00|2837000000.00|1228000000.00|                      null|   846000000.00|                  null|    78000000.00|123000000.00|  -70000000.00|     -70000000.00|              null|        null|      null|    123000000.00|5339000000.00|         4493000000.00|2502000000.00|               66000000.00|                  null|              719000000.00|                     719000000.00|                             null|The ESG data curr...|2019-01-01|   17.72|              11.7|            0.63|                         2|        9.4|                    2|           5.95|                        2|             2.0|   A|Common Stock|Agilent Technolog...|    NYSE|         USD|   US Dollar|             $|        USA|        US|US00846U1016|00846U101|0001090872|      77-0518772|      October|1999-11-18 00:00:00| International/Dom...|Healthcare|Diagnostics & Res...|Health Care|Pharmaceuticals, ...|Life Sciences Too...|Life Sciences Too...|    Domestic|         0|Agilent Technolog...|5301 Stevens Cree...|{'Street': '5301 ...|      {}|{'0': {'Name': 'M...|800 227 9770|http://www.agilen...|/img/logos/US/a.png|            16400|2020-12-19 00:00:00| 4695|2020|      9192.0|Agilent Technolog...|  173|Agilent Technolog...|    NYSE|        USA|      VUG|[93 4E 55 4D 50 5...|[93 4E 55 4D 50 5...|\n",
            "|    0|2020-10-31|         null|              USD|9627000000.00|   4433000000.00|         null|      216000000.00|4754000000.00|         4873000000.00|                null|    386000000.00| 3000000.00|     81000000.00|1003000000.00|4433000000.00|776000000.00|1441000000.00|          1467000000.00|  75000000.00|      75000000.00|                  null|         -522000000.00|          845000000.00|     3415000000.00|       158000000.00|     440000000.00|                null| 1038000000.00|2284000000.00|720000000.00|   354000000.00|                null|                                      null|                                            null|                               null|                   null|                  null|                     null|                       null|         null|                   null|          776000000.00|                        null|        6212000000.00|                   null|    2284000000.00|              614000000.00|             3287000000.00|            null|    null|                    null|  5311000000.00|                            null|              1441000000.00|                          null|                   null|                        null|  A.US|2020|2020-10-31|         null|              USD|-147000000.00|         2000000.00|                        -147000000.00| -45000000.00|                   -717000000.00|              -123000000.00|719000000.00| 59000000.00|                    921000000.00|308000000.00|                          -9000000.00|-222000000.00|     -68000000.00|             -107000000.00|      -409000000.00|                          -4000000.00|     190000000.00|          119000000|             null|                   null|               null|                         null|2020-10-31|       null|            USD|       495000000.00|                     null|   842000000.00|            null|719000000.00|               1496000000.00|2837000000.00|1228000000.00|                      null|   846000000.00|                  null|    78000000.00|123000000.00|  -70000000.00|     -70000000.00|              null|        null|      null|    123000000.00|5339000000.00|         4493000000.00|2502000000.00|               66000000.00|                  null|              719000000.00|                     719000000.00|                             null|The ESG data curr...|2019-01-01|   17.72|              11.7|            0.63|                         2|        9.4|                    2|           5.95|                        2|             2.0|   A|Common Stock|Agilent Technolog...|    NYSE|         USD|   US Dollar|             $|        USA|        US|US00846U1016|00846U101|0001090872|      77-0518772|      October|1999-11-18 00:00:00| International/Dom...|Healthcare|Diagnostics & Res...|Health Care|Pharmaceuticals, ...|Life Sciences Too...|Life Sciences Too...|    Domestic|         0|Agilent Technolog...|5301 Stevens Cree...|{'Street': '5301 ...|      {}|{'0': {'Name': 'M...|800 227 9770|http://www.agilen...|/img/logos/US/a.png|            16400|2020-12-19 00:00:00| 4695|2020|      9192.0|Agilent Technolog...|  174|Agilent Technolog...|    NYSE|        USA|       VV|[93 4E 55 4D 50 5...|[93 4E 55 4D 50 5...|\n",
            "|    0|2020-10-31|         null|              USD|9627000000.00|   4433000000.00|         null|      216000000.00|4754000000.00|         4873000000.00|                null|    386000000.00| 3000000.00|     81000000.00|1003000000.00|4433000000.00|776000000.00|1441000000.00|          1467000000.00|  75000000.00|      75000000.00|                  null|         -522000000.00|          845000000.00|     3415000000.00|       158000000.00|     440000000.00|                null| 1038000000.00|2284000000.00|720000000.00|   354000000.00|                null|                                      null|                                            null|                               null|                   null|                  null|                     null|                       null|         null|                   null|          776000000.00|                        null|        6212000000.00|                   null|    2284000000.00|              614000000.00|             3287000000.00|            null|    null|                    null|  5311000000.00|                            null|              1441000000.00|                          null|                   null|                        null|  A.US|2020|2020-10-31|         null|              USD|-147000000.00|         2000000.00|                        -147000000.00| -45000000.00|                   -717000000.00|              -123000000.00|719000000.00| 59000000.00|                    921000000.00|308000000.00|                          -9000000.00|-222000000.00|     -68000000.00|             -107000000.00|      -409000000.00|                          -4000000.00|     190000000.00|          119000000|             null|                   null|               null|                         null|2020-10-31|       null|            USD|       495000000.00|                     null|   842000000.00|            null|719000000.00|               1496000000.00|2837000000.00|1228000000.00|                      null|   846000000.00|                  null|    78000000.00|123000000.00|  -70000000.00|     -70000000.00|              null|        null|      null|    123000000.00|5339000000.00|         4493000000.00|2502000000.00|               66000000.00|                  null|              719000000.00|                     719000000.00|                             null|The ESG data curr...|2019-01-01|   17.72|              11.7|            0.63|                         2|        9.4|                    2|           5.95|                        2|             2.0|   A|Common Stock|Agilent Technolog...|    NYSE|         USD|   US Dollar|             $|        USA|        US|US00846U1016|00846U101|0001090872|      77-0518772|      October|1999-11-18 00:00:00| International/Dom...|Healthcare|Diagnostics & Res...|Health Care|Pharmaceuticals, ...|Life Sciences Too...|Life Sciences Too...|    Domestic|         0|Agilent Technolog...|5301 Stevens Cree...|{'Street': '5301 ...|      {}|{'0': {'Name': 'M...|800 227 9770|http://www.agilen...|/img/logos/US/a.png|            16400|2020-12-19 00:00:00| 4695|2020|      9192.0|Agilent Technolog...|  175|Agilent Technolog...|    NYSE|        USA|     WOMN|[93 4E 55 4D 50 5...|[93 4E 55 4D 50 5...|\n",
            "|    0|2020-10-31|         null|              USD|9627000000.00|   4433000000.00|         null|      216000000.00|4754000000.00|         4873000000.00|                null|    386000000.00| 3000000.00|     81000000.00|1003000000.00|4433000000.00|776000000.00|1441000000.00|          1467000000.00|  75000000.00|      75000000.00|                  null|         -522000000.00|          845000000.00|     3415000000.00|       158000000.00|     440000000.00|                null| 1038000000.00|2284000000.00|720000000.00|   354000000.00|                null|                                      null|                                            null|                               null|                   null|                  null|                     null|                       null|         null|                   null|          776000000.00|                        null|        6212000000.00|                   null|    2284000000.00|              614000000.00|             3287000000.00|            null|    null|                    null|  5311000000.00|                            null|              1441000000.00|                          null|                   null|                        null|  A.US|2020|2020-10-31|         null|              USD|-147000000.00|         2000000.00|                        -147000000.00| -45000000.00|                   -717000000.00|              -123000000.00|719000000.00| 59000000.00|                    921000000.00|308000000.00|                          -9000000.00|-222000000.00|     -68000000.00|             -107000000.00|      -409000000.00|                          -4000000.00|     190000000.00|          119000000|             null|                   null|               null|                         null|2020-10-31|       null|            USD|       495000000.00|                     null|   842000000.00|            null|719000000.00|               1496000000.00|2837000000.00|1228000000.00|                      null|   846000000.00|                  null|    78000000.00|123000000.00|  -70000000.00|     -70000000.00|              null|        null|      null|    123000000.00|5339000000.00|         4493000000.00|2502000000.00|               66000000.00|                  null|              719000000.00|                     719000000.00|                             null|The ESG data curr...|2019-01-01|   17.72|              11.7|            0.63|                         2|        9.4|                    2|           5.95|                        2|             2.0|   A|Common Stock|Agilent Technolog...|    NYSE|         USD|   US Dollar|             $|        USA|        US|US00846U1016|00846U101|0001090872|      77-0518772|      October|1999-11-18 00:00:00| International/Dom...|Healthcare|Diagnostics & Res...|Health Care|Pharmaceuticals, ...|Life Sciences Too...|Life Sciences Too...|    Domestic|         0|Agilent Technolog...|5301 Stevens Cree...|{'Street': '5301 ...|      {}|{'0': {'Name': 'M...|800 227 9770|http://www.agilen...|/img/logos/US/a.png|            16400|2020-12-19 00:00:00| 4695|2020|      9192.0|Agilent Technolog...|  176|Agilent Technolog...|    NYSE|        USA|      XLV|[93 4E 55 4D 50 5...|[93 4E 55 4D 50 5...|\n",
            "|    0|2020-10-31|         null|              USD|9627000000.00|   4433000000.00|         null|      216000000.00|4754000000.00|         4873000000.00|                null|    386000000.00| 3000000.00|     81000000.00|1003000000.00|4433000000.00|776000000.00|1441000000.00|          1467000000.00|  75000000.00|      75000000.00|                  null|         -522000000.00|          845000000.00|     3415000000.00|       158000000.00|     440000000.00|                null| 1038000000.00|2284000000.00|720000000.00|   354000000.00|                null|                                      null|                                            null|                               null|                   null|                  null|                     null|                       null|         null|                   null|          776000000.00|                        null|        6212000000.00|                   null|    2284000000.00|              614000000.00|             3287000000.00|            null|    null|                    null|  5311000000.00|                            null|              1441000000.00|                          null|                   null|                        null|  A.US|2020|2020-10-31|         null|              USD|-147000000.00|         2000000.00|                        -147000000.00| -45000000.00|                   -717000000.00|              -123000000.00|719000000.00| 59000000.00|                    921000000.00|308000000.00|                          -9000000.00|-222000000.00|     -68000000.00|             -107000000.00|      -409000000.00|                          -4000000.00|     190000000.00|          119000000|             null|                   null|               null|                         null|2020-10-31|       null|            USD|       495000000.00|                     null|   842000000.00|            null|719000000.00|               1496000000.00|2837000000.00|1228000000.00|                      null|   846000000.00|                  null|    78000000.00|123000000.00|  -70000000.00|     -70000000.00|              null|        null|      null|    123000000.00|5339000000.00|         4493000000.00|2502000000.00|               66000000.00|                  null|              719000000.00|                     719000000.00|                             null|The ESG data curr...|2019-01-01|   17.72|              11.7|            0.63|                         2|        9.4|                    2|           5.95|                        2|             2.0|   A|Common Stock|Agilent Technolog...|    NYSE|         USD|   US Dollar|             $|        USA|        US|US00846U1016|00846U101|0001090872|      77-0518772|      October|1999-11-18 00:00:00| International/Dom...|Healthcare|Diagnostics & Res...|Health Care|Pharmaceuticals, ...|Life Sciences Too...|Life Sciences Too...|    Domestic|         0|Agilent Technolog...|5301 Stevens Cree...|{'Street': '5301 ...|      {}|{'0': {'Name': 'M...|800 227 9770|http://www.agilen...|/img/logos/US/a.png|            16400|2020-12-19 00:00:00| 4695|2020|      9192.0|Agilent Technolog...|  177|Agilent Technolog...|    NYSE|        USA|     XOUT|[93 4E 55 4D 50 5...|[93 4E 55 4D 50 5...|\n",
            "|    0|2020-10-31|         null|              USD|9627000000.00|   4433000000.00|         null|      216000000.00|4754000000.00|         4873000000.00|                null|    386000000.00| 3000000.00|     81000000.00|1003000000.00|4433000000.00|776000000.00|1441000000.00|          1467000000.00|  75000000.00|      75000000.00|                  null|         -522000000.00|          845000000.00|     3415000000.00|       158000000.00|     440000000.00|                null| 1038000000.00|2284000000.00|720000000.00|   354000000.00|                null|                                      null|                                            null|                               null|                   null|                  null|                     null|                       null|         null|                   null|          776000000.00|                        null|        6212000000.00|                   null|    2284000000.00|              614000000.00|             3287000000.00|            null|    null|                    null|  5311000000.00|                            null|              1441000000.00|                          null|                   null|                        null|  A.US|2020|2020-10-31|         null|              USD|-147000000.00|         2000000.00|                        -147000000.00| -45000000.00|                   -717000000.00|              -123000000.00|719000000.00| 59000000.00|                    921000000.00|308000000.00|                          -9000000.00|-222000000.00|     -68000000.00|             -107000000.00|      -409000000.00|                          -4000000.00|     190000000.00|          119000000|             null|                   null|               null|                         null|2020-10-31|       null|            USD|       495000000.00|                     null|   842000000.00|            null|719000000.00|               1496000000.00|2837000000.00|1228000000.00|                      null|   846000000.00|                  null|    78000000.00|123000000.00|  -70000000.00|     -70000000.00|              null|        null|      null|    123000000.00|5339000000.00|         4493000000.00|2502000000.00|               66000000.00|                  null|              719000000.00|                     719000000.00|                             null|The ESG data curr...|2019-01-01|   17.72|              11.7|            0.63|                         2|        9.4|                    2|           5.95|                        2|             2.0|   A|Common Stock|Agilent Technolog...|    NYSE|         USD|   US Dollar|             $|        USA|        US|US00846U1016|00846U101|0001090872|      77-0518772|      October|1999-11-18 00:00:00| International/Dom...|Healthcare|Diagnostics & Res...|Health Care|Pharmaceuticals, ...|Life Sciences Too...|Life Sciences Too...|    Domestic|         0|Agilent Technolog...|5301 Stevens Cree...|{'Street': '5301 ...|      {}|{'0': {'Name': 'M...|800 227 9770|http://www.agilen...|/img/logos/US/a.png|            16400|2020-12-19 00:00:00| 4695|2020|      9192.0|Agilent Technolog...|  178|Agilent Technolog...|    NYSE|        USA|     XRLV|[93 4E 55 4D 50 5...|[93 4E 55 4D 50 5...|\n",
            "|    0|2020-10-31|         null|              USD|9627000000.00|   4433000000.00|         null|      216000000.00|4754000000.00|         4873000000.00|                null|    386000000.00| 3000000.00|     81000000.00|1003000000.00|4433000000.00|776000000.00|1441000000.00|          1467000000.00|  75000000.00|      75000000.00|                  null|         -522000000.00|          845000000.00|     3415000000.00|       158000000.00|     440000000.00|                null| 1038000000.00|2284000000.00|720000000.00|   354000000.00|                null|                                      null|                                            null|                               null|                   null|                  null|                     null|                       null|         null|                   null|          776000000.00|                        null|        6212000000.00|                   null|    2284000000.00|              614000000.00|             3287000000.00|            null|    null|                    null|  5311000000.00|                            null|              1441000000.00|                          null|                   null|                        null|  A.US|2020|2020-10-31|         null|              USD|-147000000.00|         2000000.00|                        -147000000.00| -45000000.00|                   -717000000.00|              -123000000.00|719000000.00| 59000000.00|                    921000000.00|308000000.00|                          -9000000.00|-222000000.00|     -68000000.00|             -107000000.00|      -409000000.00|                          -4000000.00|     190000000.00|          119000000|             null|                   null|               null|                         null|2020-10-31|       null|            USD|       495000000.00|                     null|   842000000.00|            null|719000000.00|               1496000000.00|2837000000.00|1228000000.00|                      null|   846000000.00|                  null|    78000000.00|123000000.00|  -70000000.00|     -70000000.00|              null|        null|      null|    123000000.00|5339000000.00|         4493000000.00|2502000000.00|               66000000.00|                  null|              719000000.00|                     719000000.00|                             null|The ESG data curr...|2019-01-01|   17.72|              11.7|            0.63|                         2|        9.4|                    2|           5.95|                        2|             2.0|   A|Common Stock|Agilent Technolog...|    NYSE|         USD|   US Dollar|             $|        USA|        US|US00846U1016|00846U101|0001090872|      77-0518772|      October|1999-11-18 00:00:00| International/Dom...|Healthcare|Diagnostics & Res...|Health Care|Pharmaceuticals, ...|Life Sciences Too...|Life Sciences Too...|    Domestic|         0|Agilent Technolog...|5301 Stevens Cree...|{'Street': '5301 ...|      {}|{'0': {'Name': 'M...|800 227 9770|http://www.agilen...|/img/logos/US/a.png|            16400|2020-12-19 00:00:00| 4695|2020|      9192.0|Agilent Technolog...|  179|Agilent Technolog...|    NYSE|        USA|     XYLD|[93 4E 55 4D 50 5...|[93 4E 55 4D 50 5...|\n",
            "|    0|2020-10-31|         null|              USD|9627000000.00|   4433000000.00|         null|      216000000.00|4754000000.00|         4873000000.00|                null|    386000000.00| 3000000.00|     81000000.00|1003000000.00|4433000000.00|776000000.00|1441000000.00|          1467000000.00|  75000000.00|      75000000.00|                  null|         -522000000.00|          845000000.00|     3415000000.00|       158000000.00|     440000000.00|                null| 1038000000.00|2284000000.00|720000000.00|   354000000.00|                null|                                      null|                                            null|                               null|                   null|                  null|                     null|                       null|         null|                   null|          776000000.00|                        null|        6212000000.00|                   null|    2284000000.00|              614000000.00|             3287000000.00|            null|    null|                    null|  5311000000.00|                            null|              1441000000.00|                          null|                   null|                        null|  A.US|2020|2020-10-31|         null|              USD|-147000000.00|         2000000.00|                        -147000000.00| -45000000.00|                   -717000000.00|              -123000000.00|719000000.00| 59000000.00|                    921000000.00|308000000.00|                          -9000000.00|-222000000.00|     -68000000.00|             -107000000.00|      -409000000.00|                          -4000000.00|     190000000.00|          119000000|             null|                   null|               null|                         null|2020-10-31|       null|            USD|       495000000.00|                     null|   842000000.00|            null|719000000.00|               1496000000.00|2837000000.00|1228000000.00|                      null|   846000000.00|                  null|    78000000.00|123000000.00|  -70000000.00|     -70000000.00|              null|        null|      null|    123000000.00|5339000000.00|         4493000000.00|2502000000.00|               66000000.00|                  null|              719000000.00|                     719000000.00|                             null|The ESG data curr...|2019-01-01|   17.72|              11.7|            0.63|                         2|        9.4|                    2|           5.95|                        2|             2.0|   A|Common Stock|Agilent Technolog...|    NYSE|         USD|   US Dollar|             $|        USA|        US|US00846U1016|00846U101|0001090872|      77-0518772|      October|1999-11-18 00:00:00| International/Dom...|Healthcare|Diagnostics & Res...|Health Care|Pharmaceuticals, ...|Life Sciences Too...|Life Sciences Too...|    Domestic|         0|Agilent Technolog...|5301 Stevens Cree...|{'Street': '5301 ...|      {}|{'0': {'Name': 'M...|800 227 9770|http://www.agilen...|/img/logos/US/a.png|            16400|2020-12-19 00:00:00| 4695|2020|      9192.0|Agilent Technolog...|  180|Agilent Technolog...|    NYSE|        USA|     XYLG|[93 4E 55 4D 50 5...|[93 4E 55 4D 50 5...|\n",
            "|    0|2020-10-31|         null|              USD|9627000000.00|   4433000000.00|         null|      216000000.00|4754000000.00|         4873000000.00|                null|    386000000.00| 3000000.00|     81000000.00|1003000000.00|4433000000.00|776000000.00|1441000000.00|          1467000000.00|  75000000.00|      75000000.00|                  null|         -522000000.00|          845000000.00|     3415000000.00|       158000000.00|     440000000.00|                null| 1038000000.00|2284000000.00|720000000.00|   354000000.00|                null|                                      null|                                            null|                               null|                   null|                  null|                     null|                       null|         null|                   null|          776000000.00|                        null|        6212000000.00|                   null|    2284000000.00|              614000000.00|             3287000000.00|            null|    null|                    null|  5311000000.00|                            null|              1441000000.00|                          null|                   null|                        null|  A.US|2020|2020-10-31|         null|              USD|-147000000.00|         2000000.00|                        -147000000.00| -45000000.00|                   -717000000.00|              -123000000.00|719000000.00| 59000000.00|                    921000000.00|308000000.00|                          -9000000.00|-222000000.00|     -68000000.00|             -107000000.00|      -409000000.00|                          -4000000.00|     190000000.00|          119000000|             null|                   null|               null|                         null|2020-10-31|       null|            USD|       495000000.00|                     null|   842000000.00|            null|719000000.00|               1496000000.00|2837000000.00|1228000000.00|                      null|   846000000.00|                  null|    78000000.00|123000000.00|  -70000000.00|     -70000000.00|              null|        null|      null|    123000000.00|5339000000.00|         4493000000.00|2502000000.00|               66000000.00|                  null|              719000000.00|                     719000000.00|                             null|The ESG data curr...|2019-01-01|   17.72|              11.7|            0.63|                         2|        9.4|                    2|           5.95|                        2|             2.0|   A|Common Stock|Agilent Technolog...|    NYSE|         USD|   US Dollar|             $|        USA|        US|US00846U1016|00846U101|0001090872|      77-0518772|      October|1999-11-18 00:00:00| International/Dom...|Healthcare|Diagnostics & Res...|Health Care|Pharmaceuticals, ...|Life Sciences Too...|Life Sciences Too...|    Domestic|         0|Agilent Technolog...|5301 Stevens Cree...|{'Street': '5301 ...|      {}|{'0': {'Name': 'M...|800 227 9770|http://www.agilen...|/img/logos/US/a.png|            16400|2020-12-19 00:00:00| 4695|2020|      9192.0|Agilent Technolog...|  181|Agilent Technolog...|    NYSE|        USA|      HIG|[93 4E 55 4D 50 5...|[93 4E 55 4D 50 5...|\n",
            "+-----+----------+-------------+-----------------+-------------+----------------+-------------+------------------+-------------+----------------------+--------------------+----------------+-----------+----------------+-------------+-------------+------------+-------------+-----------------------+-------------+-----------------+----------------------+----------------------+----------------------+------------------+-------------------+-----------------+--------------------+--------------+-------------+------------+---------------+--------------------+------------------------------------------+------------------------------------------------+-----------------------------------+-----------------------+----------------------+-------------------------+---------------------------+-------------+-----------------------+----------------------+----------------------------+---------------------+-----------------------+-----------------+--------------------------+--------------------------+----------------+--------+------------------------+---------------+--------------------------------+---------------------------+------------------------------+-----------------------+----------------------------+------+----+----------+-------------+-----------------+-------------+-------------------+-------------------------------------+-------------+--------------------------------+---------------------------+------------+------------+--------------------------------+------------+-------------------------------------+-------------+-----------------+--------------------------+-------------------+-------------------------------------+-----------------+-------------------+-----------------+-----------------------+-------------------+-----------------------------+----------+-----------+---------------+-------------------+-------------------------+---------------+----------------+------------+----------------------------+-------------+-------------+--------------------------+---------------+----------------------+---------------+------------+--------------+-----------------+------------------+------------+----------+----------------+-------------+----------------------+-------------+--------------------------+----------------------+--------------------------+---------------------------------+---------------------------------+--------------------+----------+--------+------------------+----------------+--------------------------+-----------+---------------------+---------------+-------------------------+----------------+----+------------+--------------------+--------+------------+------------+--------------+-----------+----------+------------+---------+----------+----------------+-------------+-------------------+---------------------+----------+--------------------+-----------+--------------------+--------------------+--------------------+------------+----------+--------------------+--------------------+--------------------+--------+--------------------+------------+--------------------+-------------------+-----------------+-------------------+-----+----+------------+--------------------+-----+--------------------+--------+-----------+---------+--------------------+--------------------+\n",
            "only showing top 10 rows\n",
            "\n"
          ],
          "name": "stdout"
        }
      ]
    },
    {
      "cell_type": "code",
      "metadata": {
        "id": "6nNMoPCImN1S"
      },
      "source": [
        "def create_spark_df(FullMergeDf, emissions_df, FundMapping_df, categorical_cols, numerical_cols):\n",
        "   SQL = \"\"\" \n",
        "          Select * from FullMerge f, Emission e, Fundmapping fm\n",
        "          where f.name =e.Name and f.year= e.year and f.name= fm.name\n",
        "        \"\"\"\n",
        "    results = spark.sql(SQL)\n",
        "    return results"
      ],
      "execution_count": null,
      "outputs": []
    },
    {
      "cell_type": "code",
      "metadata": {
        "id": "yEqZ8kkeF3nX"
      },
      "source": [
        "def create_df(FullMergeDf, emissions_df, FundMapping_df, categorical_cols, numerical_cols):\n",
        "    \"\"\"Takes as input the FullMerge dataframe and outputs an new dataframe transformed\"\"\"\n",
        "    partitionsforDask = 20\n",
        "    # add year\n",
        "    # FullMergeDf['year'] = pd.to_datetime(FullMergeDf['date_x'])\n",
        "    # FullMergeDf['year'] = pd.DatetimeIndex(FullMergeDf['date_x']).year\n",
        "    FullMergeDf[categorical_cols] = FullMergeDf[categorical_cols].astype('category')\n",
        "    # FullMergeDf[numerical_cols] = FullMergeDf[numerical_cols].astype(float) #test not adding it but if we use it we need to remove value from it then add it back\n",
        "    FullMergeDf['year'] = FullMergeDf['year'].astype(int)\n",
        "    FullMergeDf['Name'] = FullMergeDf['Name'].astype('category')\n",
        "\n",
        "    #change the variable names - easier to do here than dask\n",
        "    emissions_df.rename(columns={'reference_name': 'Name', 'carbonOutput': 'value'}, inplace=True)\n",
        "    emissions_df['year'] = emissions_df['year'].astype(int)\n",
        "    emissions_df['Name'] = emissions_df['Name'].astype('category')\n",
        "\n",
        "    #convet to dask\n",
        "    # FullMergeDf =  dd.from_pandas(FullMergeDf, npartitions=partitionsforDask) #.reset_index() # cudf.DataFrame.from_pandas(FullMerge)  \n",
        "    # emissions_df =  dd.from_pandas(emissions_df, npartitions=partitionsforDask) #.reset_index() #cudf.DataFrame.from_pandas(emissions)    \n",
        "\n",
        "    #set catergorial values before merging so process is quick\n",
        "    # FullMergeDf[categorical_cols] = FullMergeDf[categorical_cols].astype('category').categorize()\n",
        "    # FullMergeDf = FullMergeDf.categorize()\n",
        "\n",
        "    #set indexs\n",
        "    FullMergeDf = FullMergeDf.set_index(\"index\")  #.reset_index() # cudf.DataFrame.from_pandas(FullMerge)  \n",
        "    emissions_df =  emissions_df.set_index(\"index\")\n",
        "\n",
        "    # map carbon to MergeTable #set it to value\n",
        "    FullMergeDf = dd.merge(FullMergeDf, emissions_df, how='left', on=['Name','year'])\n",
        "\n",
        "    #ADD NEW features\n",
        "    FullMergeDf, numerical_cols = intialFeatureEng(FullMergeDf, numerical_cols)\n",
        "\n",
        "    # this is for upwork CSV file format\n",
        "    FundMapping_df['embedding'] = FundMapping_df['embedding'].apply(\n",
        "        convert_array)  # convert mapping to numpy array\n",
        "    FundMapping_df['AllFundsAVGembedding'] = FundMapping_df['AllFundsAVGembedding'].apply(\n",
        "        convert_array)  # convert mapping to numpy array\n",
        "    #convert fundmapping to dask\n",
        "    FundMapping_df =  dd.from_pandas(FundMapping_df, npartitions=partitionsforDask).reset_index()  # cudf.DataFrame.from_pandas(FundMapping_df)   #new\n",
        "\n",
        "    # Merging above dataframe (FullMerge merged with Emissions) with FundMapping Dataset\n",
        "    Full_df = dd.merge(FullMergeDf, FundMapping_df, how='left', on=['Name'])\n",
        "\n",
        "\n",
        "    return Full_df, numerical_cols"
      ],
      "execution_count": 46,
      "outputs": []
    },
    {
      "cell_type": "code",
      "metadata": {
        "id": "6CVBxrxddt91"
      },
      "source": [
        ""
      ],
      "execution_count": null,
      "outputs": []
    },
    {
      "cell_type": "code",
      "metadata": {
        "colab": {
          "base_uri": "https://localhost:8080/"
        },
        "id": "BEkfQ6fCb-Kn",
        "outputId": "879384ef-e39c-4664-a6d7-65a187cd2b5a"
      },
      "source": [
        "NumericColumns\n"
      ],
      "execution_count": 44,
      "outputs": [
        {
          "output_type": "execute_result",
          "data": {
            "text/plain": [
              "['value',\n",
              " 'totalAssets',\n",
              " 'intangibleAssets',\n",
              " 'earningAssets',\n",
              " 'otherCurrentAssets',\n",
              " 'totalLiab',\n",
              " 'totalStockholderEquity',\n",
              " 'deferredLongTermLiab',\n",
              " 'otherCurrentLiab',\n",
              " 'commonStock',\n",
              " 'retainedEarnings',\n",
              " 'otherLiab',\n",
              " 'goodWill',\n",
              " 'otherAssets',\n",
              " 'cash',\n",
              " 'totalCurrentLiabilities',\n",
              " 'shortTermDebt',\n",
              " 'shortLongTermDebt',\n",
              " 'shortLongTermDebtTotal',\n",
              " 'otherStockholderEquity',\n",
              " 'propertyPlantEquipment',\n",
              " 'totalCurrentAssets',\n",
              " 'longTermInvestments',\n",
              " 'netTangibleAssets',\n",
              " 'shortTermInvestments',\n",
              " 'netReceivables',\n",
              " 'longTermDebt',\n",
              " 'inventory',\n",
              " 'accountsPayable',\n",
              " 'totalPermanentEquity',\n",
              " 'noncontrollingInterestInConsolidatedEntity',\n",
              " 'temporaryEquityRedeemableNoncontrollingInterests',\n",
              " 'accumulatedOtherComprehensiveIncome',\n",
              " 'additionalPaidInCapital',\n",
              " 'commonStockTotalEquity',\n",
              " 'preferredStockTotalEquity',\n",
              " 'retainedEarningsTotalEquity',\n",
              " 'treasuryStock',\n",
              " 'accumulatedAmortization',\n",
              " 'nonCurrrentAssetsOther',\n",
              " 'deferredLongTermAssetCharges',\n",
              " 'nonCurrentAssetsTotal',\n",
              " 'capitalLeaseObligations',\n",
              " 'longTermDebtTotal',\n",
              " 'nonCurrentLiabilitiesOther',\n",
              " 'nonCurrentLiabilitiesTotal',\n",
              " 'negativeGoodwill',\n",
              " 'warrants',\n",
              " 'preferredStockRedeemable',\n",
              " 'capitalSurpluse',\n",
              " 'liabilitiesAndStockholdersEquity',\n",
              " 'cashAndShortTermInvestments',\n",
              " 'propertyPlantAndEquipmentGross',\n",
              " 'accumulatedDepreciation',\n",
              " 'commonStockSharesOutstanding',\n",
              " 'investments',\n",
              " 'changeToLiabilities',\n",
              " 'totalCashflowsFromInvestingActivities',\n",
              " 'netBorrowings',\n",
              " 'totalCashFromFinancingActivities',\n",
              " 'changeToOperatingActivities',\n",
              " 'netIncome_x',\n",
              " 'changeInCash',\n",
              " 'totalCashFromOperatingActivities',\n",
              " 'depreciation',\n",
              " 'otherCashflowsFromInvestingActivities',\n",
              " 'dividendsPaid',\n",
              " 'changeToInventory',\n",
              " 'changeToAccountReceivables',\n",
              " 'salePurchaseOfStock',\n",
              " 'otherCashflowsFromFinancingActivities',\n",
              " 'changeToNetincome',\n",
              " 'capitalExpenditures',\n",
              " 'changeReceivables',\n",
              " 'cashFlowsOtherOperating',\n",
              " 'exchangeRateChanges',\n",
              " 'cashAndCashEquivalentsChanges',\n",
              " 'researchDevelopment',\n",
              " 'effectOfAccountingCharges',\n",
              " 'incomeBeforeTax',\n",
              " 'minorityInterest',\n",
              " 'sellingGeneralAdministrative',\n",
              " 'grossProfit',\n",
              " 'ebit',\n",
              " 'nonOperatingIncomeNetOther',\n",
              " 'operatingIncome',\n",
              " 'otherOperatingExpenses',\n",
              " 'interestExpense',\n",
              " 'taxProvision',\n",
              " 'interestIncome',\n",
              " 'netInterestIncome',\n",
              " 'extraordinaryItems',\n",
              " 'nonRecurring',\n",
              " 'otherItems',\n",
              " 'incomeTaxExpense',\n",
              " 'totalRevenue',\n",
              " 'totalOperatingExpenses',\n",
              " 'costOfRevenue',\n",
              " 'totalOtherIncomeExpenseNet',\n",
              " 'discontinuedOperations',\n",
              " 'netIncomeFromContinuingOps',\n",
              " 'netIncomeApplicableToCommonShares',\n",
              " 'preferredStockAndOtherAdjustments',\n",
              " 'TotalEsg',\n",
              " 'TotalEsgPercentile',\n",
              " 'EnvironmentScore',\n",
              " 'EnvironmentScorePercentile',\n",
              " 'SocialScore',\n",
              " 'SocialScorePercentile',\n",
              " 'GovernanceScore',\n",
              " 'GovernanceScorePercentile',\n",
              " 'ControversyLevel']"
            ]
          },
          "metadata": {
            "tags": []
          },
          "execution_count": 44
        }
      ]
    },
    {
      "cell_type": "code",
      "metadata": {
        "colab": {
          "base_uri": "https://localhost:8080/",
          "height": 368
        },
        "id": "6ox4OWc0F-Jt",
        "outputId": "5abe11d1-8dec-41b3-a8d8-ba4b76972c1a"
      },
      "source": [
        "df, NumericColumns = create_df(FullMergeDf = FullMerge, emissions_df=emissions,FundMapping_df = FundMapping, categorical_cols = catgoricalValues, numerical_cols = NumericColumns)\n"
      ],
      "execution_count": 47,
      "outputs": [
        {
          "output_type": "error",
          "ename": "NameError",
          "evalue": "ignored",
          "traceback": [
            "\u001b[0;31m---------------------------------------------------------------------------\u001b[0m",
            "\u001b[0;31mNameError\u001b[0m                                 Traceback (most recent call last)",
            "\u001b[0;32m<ipython-input-47-c55f3f4881ed>\u001b[0m in \u001b[0;36m<module>\u001b[0;34m()\u001b[0m\n\u001b[0;32m----> 1\u001b[0;31m \u001b[0mdf\u001b[0m\u001b[0;34m,\u001b[0m \u001b[0mNumericColumns\u001b[0m \u001b[0;34m=\u001b[0m \u001b[0mcreate_df\u001b[0m\u001b[0;34m(\u001b[0m\u001b[0mFullMergeDf\u001b[0m \u001b[0;34m=\u001b[0m \u001b[0mFullMerge\u001b[0m\u001b[0;34m,\u001b[0m \u001b[0memissions_df\u001b[0m\u001b[0;34m=\u001b[0m\u001b[0memissions\u001b[0m\u001b[0;34m,\u001b[0m\u001b[0mFundMapping_df\u001b[0m \u001b[0;34m=\u001b[0m \u001b[0mFundMapping\u001b[0m\u001b[0;34m,\u001b[0m \u001b[0mcategorical_cols\u001b[0m \u001b[0;34m=\u001b[0m \u001b[0mcatgoricalValues\u001b[0m\u001b[0;34m,\u001b[0m \u001b[0mnumerical_cols\u001b[0m \u001b[0;34m=\u001b[0m \u001b[0mNumericColumns\u001b[0m\u001b[0;34m)\u001b[0m\u001b[0;34m\u001b[0m\u001b[0;34m\u001b[0m\u001b[0m\n\u001b[0m",
            "\u001b[0;32m<ipython-input-46-d7da5c81f0bd>\u001b[0m in \u001b[0;36mcreate_df\u001b[0;34m(FullMergeDf, emissions_df, FundMapping_df, categorical_cols, numerical_cols)\u001b[0m\n\u001b[1;32m     16\u001b[0m \u001b[0;34m\u001b[0m\u001b[0m\n\u001b[1;32m     17\u001b[0m     \u001b[0;31m#convet to dask\u001b[0m\u001b[0;34m\u001b[0m\u001b[0;34m\u001b[0m\u001b[0;34m\u001b[0m\u001b[0m\n\u001b[0;32m---> 18\u001b[0;31m     \u001b[0mFullMergeDf\u001b[0m \u001b[0;34m=\u001b[0m  \u001b[0mdd\u001b[0m\u001b[0;34m.\u001b[0m\u001b[0mfrom_pandas\u001b[0m\u001b[0;34m(\u001b[0m\u001b[0mFullMergeDf\u001b[0m\u001b[0;34m,\u001b[0m \u001b[0mnpartitions\u001b[0m\u001b[0;34m=\u001b[0m\u001b[0mpartitionsforDask\u001b[0m\u001b[0;34m)\u001b[0m \u001b[0;31m#.reset_index() # cudf.DataFrame.from_pandas(FullMerge)\u001b[0m\u001b[0;34m\u001b[0m\u001b[0;34m\u001b[0m\u001b[0m\n\u001b[0m\u001b[1;32m     19\u001b[0m     \u001b[0memissions_df\u001b[0m \u001b[0;34m=\u001b[0m  \u001b[0mdd\u001b[0m\u001b[0;34m.\u001b[0m\u001b[0mfrom_pandas\u001b[0m\u001b[0;34m(\u001b[0m\u001b[0memissions_df\u001b[0m\u001b[0;34m,\u001b[0m \u001b[0mnpartitions\u001b[0m\u001b[0;34m=\u001b[0m\u001b[0mpartitionsforDask\u001b[0m\u001b[0;34m)\u001b[0m \u001b[0;31m#.reset_index() #cudf.DataFrame.from_pandas(emissions)\u001b[0m\u001b[0;34m\u001b[0m\u001b[0;34m\u001b[0m\u001b[0m\n\u001b[1;32m     20\u001b[0m \u001b[0;34m\u001b[0m\u001b[0m\n",
            "\u001b[0;31mNameError\u001b[0m: name 'dd' is not defined"
          ]
        }
      ]
    },
    {
      "cell_type": "code",
      "metadata": {
        "id": "6bBPcWP8ckdJ"
      },
      "source": [
        "def process_full_df(Full_df, categoricalValues, NumericColumns, vector):\n",
        "    print(\"loading data...\")\n",
        "    orginalData = Full_df[categoricalValues + NumericColumns + vector]  # .copy()\n",
        "    orginalData['periodDate'] = orginalData['year']\n",
        "    #TEST\n",
        "    orginalData = orginalData.categorize(columns=categoricalValues)\n",
        "\n",
        "    # some tickers occur in data twice as upper/lower case.\n",
        "    orginalData['ticker'] = orginalData['ticker'].str.lower()\n",
        "    # remove dups #TODO drop duplicates but also look at vectors.\n",
        "    # orginalData = orginalData[~orginalData.duplicated(\n",
        "    #     subset=['ticker', 'periodDate'], keep='first')]\n",
        "\n",
        "    # dups = orginalData[orginalData.duplicated(\n",
        "    #     subset=['ticker', 'periodDate'], keep=False)]\n",
        "\n",
        "    # set type for dataset\n",
        "    orginalData[categoricalValues] = orginalData[categoricalValues].astype(\n",
        "        'category')\n",
        "    orginalData[NumericColumns] = orginalData[NumericColumns].astype('float64')\n",
        "\n",
        "    # remember which ones were not null so we can call them back later when training after all data has been encoded\n",
        "    labeled_inds = orginalData['value'].notnull()\n",
        "\n",
        "    # For missing values, we are computing modes for categorical columns and means for numerical columns\n",
        "    # modes = orginalData.select_dtypes(exclude=np.number).mode().iloc[0]\n",
        "    # means = orginalData.mean()\n",
        "    # both = modes.append(means)\n",
        "    # new version is only filling for catgeroical and numerical values\n",
        "    # orginalData[categoricalValues +\n",
        "    #             NumericColumns] = orginalData[categoricalValues + NumericColumns].fillna(both)\n",
        "    orginalData['periodDate'] = orginalData['periodDate'].fillna(\n",
        "        orginalData['year'])  # for some reason year is missing for some items\n",
        "    return orginalData, labeled_inds\n"
      ],
      "execution_count": null,
      "outputs": []
    },
    {
      "cell_type": "code",
      "metadata": {
        "id": "_gvcR6pjcHi4"
      },
      "source": [
        "from utils_dask import process_full_df\n",
        "\n",
        "categoricalValues = catgoricalValues\n",
        "NumericColumns = NumericColumns\n",
        "vector = vector\n",
        "\n",
        "#change the column name - there's a bug right now that's duplicating these names #TODO investigate\n",
        "df = df.rename(columns={'Exchange_x': 'Exchange', 'CountryName_x': 'CountryName'})\n",
        "\n",
        "#set column types + do imputation\n",
        "new_df, labeled_inds = process_full_df(Full_df = df, categoricalValues = categoricalValues , NumericColumns = NumericColumns, vector = vector)\n",
        "##clear memory\n",
        "# del emissions\n",
        "# del FundMapping\n",
        "print(f\"Shape of new dataframe: {new_df.shape}\")"
      ],
      "execution_count": null,
      "outputs": []
    }
  ]
}